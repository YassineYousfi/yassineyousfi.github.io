{
 "cells": [
  {
   "cell_type": "code",
   "execution_count": 40,
   "metadata": {
    "collapsed": true
   },
   "outputs": [],
   "source": [
    "from hyperopt import STATUS_OK, Trials, fmin, hp, tpe\n",
    "import numpy as np\n",
    "from xgboost import XGBClassifier\n",
    "from sklearn.metrics import accuracy_score\n",
    "import pandas as pd"
   ]
  },
  {
   "cell_type": "code",
   "execution_count": 41,
   "metadata": {
    "collapsed": true
   },
   "outputs": [],
   "source": [
    "X_train_s = np.loadtxt(\"select_X_train_plus.csv\", delimiter = \";\")\n",
    "y_train = np.loadtxt(\"y_train.csv\")\n",
    "X_test_s = np.loadtxt(\"select_X_test_plus.csv\", delimiter = \";\")"
   ]
  },
  {
   "cell_type": "code",
   "execution_count": 42,
   "metadata": {
    "collapsed": true
   },
   "outputs": [],
   "source": [
    "def cross_val_pimped(clf, X_train, y_train, n):\n",
    "    r = np.zeros(n)\n",
    "    for i in range(n):\n",
    "        idx_train_1 = (np.where(y_train==1))[0]\n",
    "        idx_train_0 = (np.where(y_train==0))[0]\n",
    "        \n",
    "        idx_test_1 = np.random.choice(idx_train_1, size=278, replace=False)\n",
    "        idx_test_2 = np.random.choice(idx_train_0, size=1112, replace=False)\n",
    "        \n",
    "        idx_train_train_1 = np.setdiff1d(idx_train_1,idx_test_1)\n",
    "        idx_train_train_2 = np.random.choice(np.setdiff1d(idx_train_0,idx_test_2), size=27994, replace=False)\n",
    "        \n",
    "        idx_test = np.r_[idx_test_1, idx_test_2]\n",
    "        idx_train = np.r_[idx_train_train_1, idx_train_train_2]\n",
    "        \n",
    "        X_train_train = X_train[idx_train]\n",
    "        X_train_test = X_train[idx_test]\n",
    "        y_train_train = y_train[idx_train]\n",
    "        y_train_test = y_train[idx_test]\n",
    "        \n",
    "        clf.fit(X_train_train, y_train_train)\n",
    "        y_pred = clf.predict(X_train_test)\n",
    "        r[i] = (accuracy_score(y_pred, y_train_test))\n",
    "    print(np.mean(r),np.std(r))\n",
    "    return r"
   ]
  },
  {
   "cell_type": "code",
   "execution_count": 44,
   "metadata": {},
   "outputs": [
    {
     "name": "stdout",
     "output_type": "stream",
     "text": [
      "0.917715827338 0.00804290726217\n",
      "Score 0.9177 params {'max_depth': 4, 'gamma': '0.4720', 'colsample_bytree': '0.7436', 'scale_pos_weight': 39, 'n_estimators': 260, 'learning_rate': '0.0712', 'eta': '0.0884', 'subsample': '0.9401', 'num_boost_round': 140}\n",
      "0.907823741007 0.00297578994744\n",
      "Score 0.9078 params {'max_depth': 11, 'gamma': '0.2100', 'colsample_bytree': '0.9091', 'scale_pos_weight': 71, 'n_estimators': 280, 'learning_rate': '0.0485', 'eta': '0.0317', 'subsample': '0.8130', 'num_boost_round': 180}\n",
      "0.914298561151 0.00540092670903\n",
      "Score 0.9143 params {'max_depth': 8, 'gamma': '0.1011', 'colsample_bytree': '0.9209', 'scale_pos_weight': 67, 'n_estimators': 240, 'learning_rate': '0.0829', 'eta': '0.0441', 'subsample': '0.7959', 'num_boost_round': 200}\n",
      "0.923471223022 0.00540691277538\n",
      "Score 0.9235 params {'max_depth': 4, 'gamma': '0.0979', 'colsample_bytree': '0.7966', 'scale_pos_weight': 83, 'n_estimators': 300, 'learning_rate': '0.1487', 'eta': '0.0400', 'subsample': '0.7100', 'num_boost_round': 220}\n",
      "0.911600719424 0.00286502379893\n",
      "Score 0.9116 params {'max_depth': 7, 'gamma': '0.5978', 'colsample_bytree': '0.7171', 'scale_pos_weight': 17, 'n_estimators': 260, 'learning_rate': '0.1424', 'eta': '0.0802', 'subsample': '0.7657', 'num_boost_round': 200}\n",
      "0.909172661871 0.00535657288196\n",
      "Score 0.9092 params {'max_depth': 12, 'gamma': '0.3797', 'colsample_bytree': '0.9336', 'scale_pos_weight': 56, 'n_estimators': 340, 'learning_rate': '0.0884', 'eta': '0.0390', 'subsample': '0.7471', 'num_boost_round': 20}\n",
      "0.91285971223 0.00634805464162\n",
      "Score 0.9129 params {'max_depth': 6, 'gamma': '0.1935', 'colsample_bytree': '0.8662', 'scale_pos_weight': 41, 'n_estimators': 320, 'learning_rate': '0.1110', 'eta': '0.0159', 'subsample': '0.7820', 'num_boost_round': 160}\n",
      "0.917895683453 0.00521815254547\n",
      "Score 0.9179 params {'max_depth': 7, 'gamma': '0.1167', 'colsample_bytree': '0.8468', 'scale_pos_weight': 48, 'n_estimators': 280, 'learning_rate': '0.1416', 'eta': '0.0225', 'subsample': '0.9228', 'num_boost_round': 200}\n",
      "0.907913669065 0.00518784356182\n",
      "Score 0.9079 params {'max_depth': 11, 'gamma': '0.3864', 'colsample_bytree': '0.8884', 'scale_pos_weight': 10, 'n_estimators': 200, 'learning_rate': '0.1021', 'eta': '0.0218', 'subsample': '0.9430', 'num_boost_round': 120}\n",
      "0.910881294964 0.00415522124178\n",
      "Score 0.9109 params {'max_depth': 12, 'gamma': '0.4225', 'colsample_bytree': '0.7932', 'scale_pos_weight': 75, 'n_estimators': 280, 'learning_rate': '0.0522', 'eta': '0.0246', 'subsample': '0.7599', 'num_boost_round': 40}\n",
      "0.914838129496 0.00485194998569\n",
      "Score 0.9148 params {'max_depth': 7, 'gamma': '0.5130', 'colsample_bytree': '0.8426', 'scale_pos_weight': 58, 'n_estimators': 200, 'learning_rate': '0.1477', 'eta': '0.0525', 'subsample': '0.7172', 'num_boost_round': 60}\n",
      "0.905575539568 0.00655180057557\n",
      "Score 0.9056 params {'max_depth': 11, 'gamma': '0.3471', 'colsample_bytree': '0.7225', 'scale_pos_weight': 16, 'n_estimators': 300, 'learning_rate': '0.0594', 'eta': '0.0222', 'subsample': '0.7856', 'num_boost_round': 220}\n",
      "0.910791366906 0.0032173639964\n",
      "Score 0.9108 params {'max_depth': 11, 'gamma': '0.5252', 'colsample_bytree': '0.7671', 'scale_pos_weight': 85, 'n_estimators': 280, 'learning_rate': '0.1295', 'eta': '0.0312', 'subsample': '0.9296', 'num_boost_round': 100}\n",
      "0.912679856115 0.00552527235946\n",
      "Score 0.9127 params {'max_depth': 11, 'gamma': '0.2472', 'colsample_bytree': '0.9616', 'scale_pos_weight': 95, 'n_estimators': 320, 'learning_rate': '0.0895', 'eta': '0.0466', 'subsample': '0.8148', 'num_boost_round': 180}\n",
      "0.914838129496 0.00474407794572\n",
      "Score 0.9148 params {'max_depth': 7, 'gamma': '0.3198', 'colsample_bytree': '0.9294', 'scale_pos_weight': 28, 'n_estimators': 300, 'learning_rate': '0.0413', 'eta': '0.0115', 'subsample': '0.7644', 'num_boost_round': 60}\n",
      "0.917985611511 0.00466240338015\n",
      "Score 0.9180 params {'max_depth': 7, 'gamma': '0.1799', 'colsample_bytree': '0.7092', 'scale_pos_weight': 79, 'n_estimators': 340, 'learning_rate': '0.0559', 'eta': '0.0237', 'subsample': '0.7077', 'num_boost_round': 100}\n",
      "0.90881294964 0.00317179713823\n",
      "Score 0.9088 params {'max_depth': 10, 'gamma': '0.1885', 'colsample_bytree': '0.9711', 'scale_pos_weight': 28, 'n_estimators': 240, 'learning_rate': '0.0618', 'eta': '0.0391', 'subsample': '0.7113', 'num_boost_round': 80}\n",
      "0.908003597122 0.0068386725438\n",
      "Score 0.9080 params {'max_depth': 12, 'gamma': '0.3815', 'colsample_bytree': '0.8927', 'scale_pos_weight': 22, 'n_estimators': 260, 'learning_rate': '0.0458', 'eta': '0.0499', 'subsample': '0.7415', 'num_boost_round': 80}\n",
      "0.913848920863 0.00380258534386\n",
      "Score 0.9138 params {'max_depth': 7, 'gamma': '0.3163', 'colsample_bytree': '0.7386', 'scale_pos_weight': 66, 'n_estimators': 400, 'learning_rate': '0.1104', 'eta': '0.0623', 'subsample': '0.7180', 'num_boost_round': 100}\n",
      "0.91654676259 0.00583355206483\n",
      "Score 0.9165 params {'max_depth': 7, 'gamma': '0.4229', 'colsample_bytree': '0.9213', 'scale_pos_weight': 59, 'n_estimators': 360, 'learning_rate': '0.1476', 'eta': '0.0462', 'subsample': '0.8940', 'num_boost_round': 140}\n",
      "0.911960431655 0.00613557197965\n",
      "Score 0.9120 params {'max_depth': 3, 'gamma': '0.0004', 'colsample_bytree': '0.8103', 'scale_pos_weight': 94, 'n_estimators': 380, 'learning_rate': '0.1322', 'eta': '0.0636', 'subsample': '0.8443', 'num_boost_round': 140}\n",
      "0.921852517986 0.00596447460388\n",
      "Score 0.9219 params {'max_depth': 5, 'gamma': '0.0146', 'colsample_bytree': '0.7014', 'scale_pos_weight': 82, 'n_estimators': 340, 'learning_rate': '0.0712', 'eta': '0.0614', 'subsample': '0.9940', 'num_boost_round': 120}\n",
      "0.919424460432 0.00398940162101\n",
      "Score 0.9194 params {'max_depth': 5, 'gamma': '0.0029', 'colsample_bytree': '0.8115', 'scale_pos_weight': 86, 'n_estimators': 360, 'learning_rate': '0.0736', 'eta': '0.0701', 'subsample': '0.9915', 'num_boost_round': 160}\n",
      "0.872122302158 0.0105227355945\n",
      "Score 0.8721 params {'max_depth': 3, 'gamma': '0.0618', 'colsample_bytree': '0.7796', 'scale_pos_weight': 99, 'n_estimators': 320, 'learning_rate': '0.0739', 'eta': '0.0756', 'subsample': '0.9855', 'num_boost_round': 20}\n",
      "0.921762589928 0.00590793802362\n",
      "Score 0.9218 params {'max_depth': 4, 'gamma': '0.0376', 'colsample_bytree': '0.7005', 'scale_pos_weight': 84, 'n_estimators': 380, 'learning_rate': '0.0999', 'eta': '0.0572', 'subsample': '0.8863', 'num_boost_round': 120}\n",
      "0.923291366906 0.00630202584369\n",
      "Score 0.9233 params {'max_depth': 5, 'gamma': '0.1266', 'colsample_bytree': '0.7480', 'scale_pos_weight': 93, 'n_estimators': 340, 'learning_rate': '0.1171', 'eta': '0.0963', 'subsample': '0.9720', 'num_boost_round': 160}\n",
      "0.923830935252 0.00649913002344\n",
      "Score 0.9238 params {'max_depth': 4, 'gamma': '0.1260', 'colsample_bytree': '0.7581', 'scale_pos_weight': 92, 'n_estimators': 360, 'learning_rate': '0.1216', 'eta': '0.0997', 'subsample': '0.8485', 'num_boost_round': 220}\n",
      "0.921672661871 0.0056124042362\n",
      "Score 0.9217 params {'max_depth': 4, 'gamma': '0.2411', 'colsample_bytree': '0.8198', 'scale_pos_weight': 90, 'n_estimators': 400, 'learning_rate': '0.1261', 'eta': '0.0975', 'subsample': '0.8500', 'num_boost_round': 220}\n",
      "0.913579136691 0.00520573943828\n",
      "Score 0.9136 params {'max_depth': 9, 'gamma': '0.0790', 'colsample_bytree': '0.7584', 'scale_pos_weight': 75, 'n_estimators': 380, 'learning_rate': '0.1221', 'eta': '0.0885', 'subsample': '0.8499', 'num_boost_round': 220}\n",
      "0.912320143885 0.00430810775791\n",
      "Score 0.9123 params {'max_depth': 3, 'gamma': '0.1449', 'colsample_bytree': '0.7939', 'scale_pos_weight': 100, 'n_estimators': 360, 'learning_rate': '0.1363', 'eta': '0.0869', 'subsample': '0.8843', 'num_boost_round': 180}\n",
      "0.920503597122 0.00647482014388\n",
      "Score 0.9205 params {'max_depth': 6, 'gamma': '0.2745', 'colsample_bytree': '0.8312', 'scale_pos_weight': 65, 'n_estimators': 220, 'learning_rate': '0.1169', 'eta': '0.0328', 'subsample': '0.9569', 'num_boost_round': 200}\n",
      "0.923561151079 0.00444575794759\n",
      "Score 0.9236 params {'max_depth': 4, 'gamma': '0.1530', 'colsample_bytree': '0.8654', 'scale_pos_weight': 72, 'n_estimators': 320, 'learning_rate': '0.1408', 'eta': '0.0720', 'subsample': '0.8160', 'num_boost_round': 180}\n",
      "0.912949640288 0.00516284176058\n",
      "Score 0.9129 params {'max_depth': 6, 'gamma': '0.1547', 'colsample_bytree': '0.8610', 'scale_pos_weight': 50, 'n_estimators': 320, 'learning_rate': '0.1368', 'eta': '0.0904', 'subsample': '0.8245', 'num_boost_round': 180}\n"
     ]
    },
    {
     "name": "stdout",
     "output_type": "stream",
     "text": [
      "0.916366906475 0.00614413340019\n",
      "Score 0.9164 params {'max_depth': 8, 'gamma': '0.2326', 'colsample_bytree': '0.9905', 'scale_pos_weight': 72, 'n_estimators': 360, 'learning_rate': '0.1057', 'eta': '0.0804', 'subsample': '0.8676', 'num_boost_round': 200}\n",
      "0.920503597122 0.00610451897427\n",
      "Score 0.9205 params {'max_depth': 4, 'gamma': '0.0493', 'colsample_bytree': '0.8839', 'scale_pos_weight': 61, 'n_estimators': 380, 'learning_rate': '0.1208', 'eta': '0.0996', 'subsample': '0.8278', 'num_boost_round': 180}\n",
      "0.92059352518 0.00508630422388\n",
      "Score 0.9206 params {'max_depth': 5, 'gamma': '0.2698', 'colsample_bytree': '0.9057', 'scale_pos_weight': 50, 'n_estimators': 260, 'learning_rate': '0.1396', 'eta': '0.0707', 'subsample': '0.9006', 'num_boost_round': 160}\n",
      "0.915287769784 0.00323241020784\n",
      "Score 0.9153 params {'max_depth': 3, 'gamma': '0.0832', 'colsample_bytree': '0.9450', 'scale_pos_weight': 40, 'n_estimators': 300, 'learning_rate': '0.1490', 'eta': '0.0836', 'subsample': '0.8689', 'num_boost_round': 220}\n",
      "0.918525179856 0.00483608980567\n",
      "Score 0.9185 params {'max_depth': 6, 'gamma': '0.2164', 'colsample_bytree': '0.8733', 'scale_pos_weight': 69, 'n_estimators': 340, 'learning_rate': '0.0944', 'eta': '0.0735', 'subsample': '0.7937', 'num_boost_round': 200}\n",
      "0.915107913669 0.00485278329613\n",
      "Score 0.9151 params {'max_depth': 8, 'gamma': '0.1592', 'colsample_bytree': '0.7319', 'scale_pos_weight': 77, 'n_estimators': 400, 'learning_rate': '0.0830', 'eta': '0.0660', 'subsample': '0.9122', 'num_boost_round': 140}\n",
      "0.924010791367 0.00981782129226\n",
      "Score 0.9240 params {'max_depth': 4, 'gamma': '0.1138', 'colsample_bytree': '0.8373', 'scale_pos_weight': 88, 'n_estimators': 320, 'learning_rate': '0.1118', 'eta': '0.0575', 'subsample': '0.8080', 'num_boost_round': 180}\n",
      "0.924190647482 0.00737135850048\n",
      "Score 0.9242 params {'max_depth': 5, 'gamma': '0.1083', 'colsample_bytree': '0.7774', 'scale_pos_weight': 90, 'n_estimators': 240, 'learning_rate': '0.1102', 'eta': '0.0923', 'subsample': '0.7976', 'num_boost_round': 140}\n",
      "0.911690647482 0.00401768127764\n",
      "Score 0.9117 params {'max_depth': 9, 'gamma': '0.1012', 'colsample_bytree': '0.7816', 'scale_pos_weight': 100, 'n_estimators': 240, 'learning_rate': '0.1114', 'eta': '0.0571', 'subsample': '0.7388', 'num_boost_round': 140}\n",
      "0.921672661871 0.00775209066535\n",
      "Score 0.9217 params {'max_depth': 5, 'gamma': '0.0280', 'colsample_bytree': '0.8319', 'scale_pos_weight': 88, 'n_estimators': 220, 'learning_rate': '0.0935', 'eta': '0.0335', 'subsample': '0.7824', 'num_boost_round': 160}\n",
      "0.925089928058 0.00401264595635\n",
      "Score 0.9251 params {'max_depth': 6, 'gamma': '0.5943', 'colsample_bytree': '0.8508', 'scale_pos_weight': 81, 'n_estimators': 220, 'learning_rate': '0.0796', 'eta': '0.0933', 'subsample': '0.8003', 'num_boost_round': 120}\n",
      "0.914208633094 0.00467279894128\n",
      "Score 0.9142 params {'max_depth': 9, 'gamma': '0.5865', 'colsample_bytree': '0.7736', 'scale_pos_weight': 46, 'n_estimators': 220, 'learning_rate': '0.0659', 'eta': '0.0788', 'subsample': '0.7309', 'num_boost_round': 80}\n",
      "0.91618705036 0.00564186587819\n",
      "Score 0.9162 params {'max_depth': 8, 'gamma': '0.4851', 'colsample_bytree': '0.8067', 'scale_pos_weight': 80, 'n_estimators': 200, 'learning_rate': '0.0800', 'eta': '0.0936', 'subsample': '0.7685', 'num_boost_round': 40}\n",
      "0.923111510791 0.00356890914262\n",
      "Score 0.9231 params {'max_depth': 6, 'gamma': '0.4485', 'colsample_bytree': '0.8486', 'scale_pos_weight': 96, 'n_estimators': 220, 'learning_rate': '0.0819', 'eta': '0.0933', 'subsample': '0.8042', 'num_boost_round': 100}\n",
      "0.92059352518 0.00390644004118\n",
      "Score 0.9206 params {'max_depth': 6, 'gamma': '0.5357', 'colsample_bytree': '0.8984', 'scale_pos_weight': 63, 'n_estimators': 240, 'learning_rate': '0.0865', 'eta': '0.0846', 'subsample': '0.7535', 'num_boost_round': 60}\n",
      "0.925269784173 0.00461270453354\n",
      "Score 0.9253 params {'max_depth': 5, 'gamma': '0.5590', 'colsample_bytree': '0.8220', 'scale_pos_weight': 30, 'n_estimators': 280, 'learning_rate': '0.0667', 'eta': '0.0766', 'subsample': '0.8344', 'num_boost_round': 120}\n",
      "0.910251798561 0.00398534528888\n",
      "Score 0.9103 params {'max_depth': 10, 'gamma': '0.5747', 'colsample_bytree': '0.8565', 'scale_pos_weight': 34, 'n_estimators': 280, 'learning_rate': '0.0499', 'eta': '0.0768', 'subsample': '0.8363', 'num_boost_round': 80}\n",
      "0.90845323741 0.00313073654416\n",
      "Score 0.9085 params {'max_depth': 7, 'gamma': '0.5629', 'colsample_bytree': '0.8799', 'scale_pos_weight': 13, 'n_estimators': 280, 'learning_rate': '0.0650', 'eta': '0.0824', 'subsample': '0.8661', 'num_boost_round': 120}\n",
      "0.917356115108 0.00784335587985\n",
      "Score 0.9174 params {'max_depth': 5, 'gamma': '0.4914', 'colsample_bytree': '0.9116', 'scale_pos_weight': 35, 'n_estimators': 200, 'learning_rate': '0.0423', 'eta': '0.0428', 'subsample': '0.7743', 'num_boost_round': 100}\n",
      "0.91726618705 0.00425617250583\n",
      "Score 0.9173 params {'max_depth': 6, 'gamma': '0.3549', 'colsample_bytree': '0.9425', 'scale_pos_weight': 21, 'n_estimators': 260, 'learning_rate': '0.0566', 'eta': '0.0672', 'subsample': '0.9249', 'num_boost_round': 40}\n",
      "0.913039568345 0.00534069704004\n",
      "Score 0.9130 params {'max_depth': 8, 'gamma': '0.6000', 'colsample_bytree': '0.9657', 'scale_pos_weight': 28, 'n_estimators': 280, 'learning_rate': '0.0764', 'eta': '0.0870', 'subsample': '0.9463', 'num_boost_round': 60}\n",
      "0.910971223022 0.00546419335646\n",
      "Score 0.9110 params {'max_depth': 10, 'gamma': '0.5507', 'colsample_bytree': '0.7982', 'scale_pos_weight': 44, 'n_estimators': 300, 'learning_rate': '0.0674', 'eta': '0.0772', 'subsample': '0.7242', 'num_boost_round': 120}\n",
      "0.915917266187 0.00568114765183\n",
      "Score 0.9159 params {'max_depth': 3, 'gamma': '0.4517', 'colsample_bytree': '0.8181', 'scale_pos_weight': 23, 'n_estimators': 260, 'learning_rate': '0.0900', 'eta': '0.0514', 'subsample': '0.8593', 'num_boost_round': 100}\n",
      "0.920413669065 0.00431560991032\n",
      "Score 0.9204 params {'max_depth': 6, 'gamma': '0.5136', 'colsample_bytree': '0.8222', 'scale_pos_weight': 55, 'n_estimators': 220, 'learning_rate': '0.0997', 'eta': '0.0686', 'subsample': '0.8773', 'num_boost_round': 80}\n",
      "0.909082733813 0.00543079106003\n",
      "Score 0.9091 params {'max_depth': 7, 'gamma': '0.4161', 'colsample_bytree': '0.8737', 'scale_pos_weight': 10, 'n_estimators': 200, 'learning_rate': '0.0549', 'eta': '0.0963', 'subsample': '0.7555', 'num_boost_round': 120}\n",
      "0.925 0.0033115022733\n",
      "Score 0.9250 params {'max_depth': 5, 'gamma': '0.3996', 'colsample_bytree': '0.7256', 'scale_pos_weight': 35, 'n_estimators': 240, 'learning_rate': '0.0608', 'eta': '0.0615', 'subsample': '0.7001', 'num_boost_round': 40}\n",
      "0.918165467626 0.00428269097115\n",
      "Score 0.9182 params {'max_depth': 7, 'gamma': '0.4768', 'colsample_bytree': '0.8530', 'scale_pos_weight': 51, 'n_estimators': 260, 'learning_rate': '0.0691', 'eta': '0.0181', 'subsample': '0.9107', 'num_boost_round': 60}\n",
      "0.906025179856 0.00453490708026\n",
      "Score 0.9060 params {'max_depth': 3, 'gamma': '0.4493', 'colsample_bytree': '0.7877', 'scale_pos_weight': 31, 'n_estimators': 300, 'learning_rate': '0.0761', 'eta': '0.0746', 'subsample': '0.8328', 'num_boost_round': 140}\n",
      "0.910521582734 0.00416299892054\n",
      "Score 0.9105 params {'max_depth': 8, 'gamma': '0.3666', 'colsample_bytree': '0.9954', 'scale_pos_weight': 18, 'n_estimators': 260, 'learning_rate': '0.0466', 'eta': '0.0647', 'subsample': '0.7910', 'num_boost_round': 160}\n",
      "0.913669064748 0.00400558587254\n",
      "Score 0.9137 params {'max_depth': 9, 'gamma': '0.3356', 'colsample_bytree': '0.9227', 'scale_pos_weight': 57, 'n_estimators': 240, 'learning_rate': '0.0860', 'eta': '0.0362', 'subsample': '0.7774', 'num_boost_round': 80}\n",
      "0.922302158273 0.00464850646882\n",
      "Score 0.9223 params {'max_depth': 5, 'gamma': '0.5021', 'colsample_bytree': '0.8423', 'scale_pos_weight': 43, 'n_estimators': 280, 'learning_rate': '0.1047', 'eta': '0.0269', 'subsample': '0.8173', 'num_boost_round': 120}\n",
      "0.90845323741 0.00549959886742\n",
      "Score 0.9085 params {'max_depth': 4, 'gamma': '0.5344', 'colsample_bytree': '0.7647', 'scale_pos_weight': 37, 'n_estimators': 220, 'learning_rate': '0.0633', 'eta': '0.0104', 'subsample': '0.8227', 'num_boost_round': 100}\n",
      "0.920863309353 0.00664251270238\n",
      "Score 0.9209 params {'max_depth': 5, 'gamma': '0.4052', 'colsample_bytree': '0.7168', 'scale_pos_weight': 26, 'n_estimators': 240, 'learning_rate': '0.0594', 'eta': '0.0484', 'subsample': '0.7082', 'num_boost_round': 100}\n"
     ]
    },
    {
     "name": "stdout",
     "output_type": "stream",
     "text": [
      "0.922212230216 0.00768503523578\n",
      "Score 0.9222 params {'max_depth': 6, 'gamma': '0.2911', 'colsample_bytree': '0.7501', 'scale_pos_weight': 53, 'n_estimators': 240, 'learning_rate': '0.0406', 'eta': '0.0595', 'subsample': '0.7041', 'num_boost_round': 20}\n",
      "0.919424460432 0.0052866685096\n",
      "Score 0.9194 params {'max_depth': 5, 'gamma': '0.3936', 'colsample_bytree': '0.7335', 'scale_pos_weight': 32, 'n_estimators': 260, 'learning_rate': '0.0516', 'eta': '0.0808', 'subsample': '0.7346', 'num_boost_round': 40}\n",
      "0.922661870504 0.00801924345669\n",
      "Score 0.9227 params {'max_depth': 4, 'gamma': '0.5535', 'colsample_bytree': '0.8935', 'scale_pos_weight': 15, 'n_estimators': 240, 'learning_rate': '0.0789', 'eta': '0.0532', 'subsample': '0.8955', 'num_boost_round': 140}\n",
      "0.927428057554 0.00615136837218\n",
      "Score 0.9274 params {'max_depth': 5, 'gamma': '0.4620', 'colsample_bytree': '0.8020', 'scale_pos_weight': 47, 'n_estimators': 280, 'learning_rate': '0.0605', 'eta': '0.0622', 'subsample': '0.8415', 'num_boost_round': 120}\n",
      "0.918075539568 0.00680072574121\n",
      "Score 0.9181 params {'max_depth': 6, 'gamma': '0.5833', 'colsample_bytree': '0.8023', 'scale_pos_weight': 39, 'n_estimators': 280, 'learning_rate': '0.0703', 'eta': '0.0849', 'subsample': '0.8437', 'num_boost_round': 120}\n",
      "0.915827338129 0.00516284176058\n",
      "Score 0.9158 params {'max_depth': 7, 'gamma': '0.4625', 'colsample_bytree': '0.8247', 'scale_pos_weight': 46, 'n_estimators': 300, 'learning_rate': '0.0456', 'eta': '0.0428', 'subsample': '0.8039', 'num_boost_round': 140}\n",
      "0.886690647482 0.00819480989201\n",
      "Score 0.8867 params {'max_depth': 3, 'gamma': '0.6000', 'colsample_bytree': '0.8395', 'scale_pos_weight': 67, 'n_estimators': 320, 'learning_rate': '0.0724', 'eta': '0.0895', 'subsample': '0.8798', 'num_boost_round': 160}\n",
      "0.921672661871 0.00592638862971\n",
      "Score 0.9217 params {'max_depth': 4, 'gamma': '0.4354', 'colsample_bytree': '0.7910', 'scale_pos_weight': 59, 'n_estimators': 300, 'learning_rate': '0.0910', 'eta': '0.0722', 'subsample': '0.8405', 'num_boost_round': 120}\n",
      "0.921762589928 0.00769607658106\n",
      "Score 0.9218 params {'max_depth': 6, 'gamma': '0.5170', 'colsample_bytree': '0.8120', 'scale_pos_weight': 53, 'n_estimators': 280, 'learning_rate': '0.0533', 'eta': '0.0684', 'subsample': '0.7480', 'num_boost_round': 80}\n",
      "0.925269784173 0.00391471202512\n",
      "Score 0.9253 params {'max_depth': 4, 'gamma': '0.5676', 'colsample_bytree': '0.8684', 'scale_pos_weight': 62, 'n_estimators': 340, 'learning_rate': '0.0971', 'eta': '0.0541', 'subsample': '0.8583', 'num_boost_round': 100}\n",
      "0.906294964029 0.00831044248356\n",
      "Score 0.9063 params {'max_depth': 3, 'gamma': '0.5337', 'colsample_bytree': '0.8298', 'scale_pos_weight': 61, 'n_estimators': 340, 'learning_rate': '0.0994', 'eta': '0.0547', 'subsample': '0.8583', 'num_boost_round': 100}\n",
      "0.907913669065 0.00793815701105\n",
      "Score 0.9079 params {'max_depth': 3, 'gamma': '0.5612', 'colsample_bytree': '0.8726', 'scale_pos_weight': 41, 'n_estimators': 320, 'learning_rate': '0.0971', 'eta': '0.0468', 'subsample': '0.9375', 'num_boost_round': 100}\n",
      "0.922751798561 0.00696521687796\n",
      "Score 0.9228 params {'max_depth': 4, 'gamma': '0.5036', 'colsample_bytree': '0.9798', 'scale_pos_weight': 24, 'n_estimators': 340, 'learning_rate': '0.0844', 'eta': '0.0596', 'subsample': '0.9140', 'num_boost_round': 80}\n",
      "0.927428057554 0.00447024766965\n",
      "Score 0.9274 params {'max_depth': 4, 'gamma': '0.4718', 'colsample_bytree': '0.9016', 'scale_pos_weight': 48, 'n_estimators': 340, 'learning_rate': '0.1068', 'eta': '0.0397', 'subsample': '0.9011', 'num_boost_round': 140}\n",
      "0.918705035971 0.00860306528281\n",
      "Score 0.9187 params {'max_depth': 3, 'gamma': '0.3722', 'colsample_bytree': '0.9495', 'scale_pos_weight': 74, 'n_estimators': 380, 'learning_rate': '0.1288', 'eta': '0.0383', 'subsample': '0.9683', 'num_boost_round': 140}\n",
      "0.926079136691 0.00615465418427\n",
      "Score 0.9261 params {'max_depth': 4, 'gamma': '0.4265', 'colsample_bytree': '0.9311', 'scale_pos_weight': 48, 'n_estimators': 380, 'learning_rate': '0.1079', 'eta': '0.0293', 'subsample': '0.8997', 'num_boost_round': 160}\n",
      "0.926888489209 0.0048117813747\n",
      "Score 0.9269 params {'max_depth': 4, 'gamma': '0.3197', 'colsample_bytree': '0.9559', 'scale_pos_weight': 48, 'n_estimators': 400, 'learning_rate': '0.1147', 'eta': '0.0289', 'subsample': '0.9040', 'num_boost_round': 200}\n",
      "0.917356115108 0.00376303524333\n",
      "Score 0.9174 params {'max_depth': 3, 'gamma': '0.3218', 'colsample_bytree': '0.9803', 'scale_pos_weight': 48, 'n_estimators': 400, 'learning_rate': '0.1181', 'eta': '0.0196', 'subsample': '0.9558', 'num_boost_round': 200}\n",
      "0.926708633094 0.00427796758715\n",
      "Score 0.9267 params {'max_depth': 4, 'gamma': '0.2603', 'colsample_bytree': '0.9556', 'scale_pos_weight': 69, 'n_estimators': 360, 'learning_rate': '0.1233', 'eta': '0.0139', 'subsample': '0.9347', 'num_boost_round': 200}\n",
      "0.919514388489 0.00217134828555\n",
      "Score 0.9195 params {'max_depth': 3, 'gamma': '0.1779', 'colsample_bytree': '0.9122', 'scale_pos_weight': 38, 'n_estimators': 360, 'learning_rate': '0.1147', 'eta': '0.0260', 'subsample': '0.8885', 'num_boost_round': 220}\n",
      "0.915737410072 0.00540092670903\n",
      "Score 0.9157 params {'max_depth': 5, 'gamma': '0.2126', 'colsample_bytree': '0.9368', 'scale_pos_weight': 42, 'n_estimators': 400, 'learning_rate': '0.1325', 'eta': '0.0408', 'subsample': '0.9069', 'num_boost_round': 180}\n",
      "0.922212230216 0.00674340516918\n",
      "Score 0.9222 params {'max_depth': 4, 'gamma': '0.3043', 'colsample_bytree': '0.9055', 'scale_pos_weight': 53, 'n_estimators': 360, 'learning_rate': '0.1027', 'eta': '0.0348', 'subsample': '0.9195', 'num_boost_round': 180}\n",
      "0.915557553957 0.00613557197965\n",
      "Score 0.9156 params {'max_depth': 12, 'gamma': '0.3458', 'colsample_bytree': '0.9714', 'scale_pos_weight': 65, 'n_estimators': 320, 'learning_rate': '0.1138', 'eta': '0.0297', 'subsample': '0.9469', 'num_boost_round': 200}\n",
      "0.919604316547 0.00639185454817\n",
      "Score 0.9196 params {'max_depth': 4, 'gamma': '0.2920', 'colsample_bytree': '0.9251', 'scale_pos_weight': 45, 'n_estimators': 380, 'learning_rate': '0.1445', 'eta': '0.0447', 'subsample': '0.8731', 'num_boost_round': 160}\n",
      "0.911151079137 0.00717623645441\n",
      "Score 0.9112 params {'max_depth': 3, 'gamma': '0.3849', 'colsample_bytree': '0.9158', 'scale_pos_weight': 57, 'n_estimators': 300, 'learning_rate': '0.1276', 'eta': '0.0501', 'subsample': '0.9211', 'num_boost_round': 180}\n",
      "0.919334532374 0.00493786111989\n",
      "Score 0.9193 params {'max_depth': 5, 'gamma': '0.3297', 'colsample_bytree': '0.9376', 'scale_pos_weight': 51, 'n_estimators': 320, 'learning_rate': '0.1315', 'eta': '0.0142', 'subsample': '0.9770', 'num_boost_round': 140}\n",
      "0.90881294964 0.00573004759787\n",
      "Score 0.9088 params {'max_depth': 11, 'gamma': '0.4619', 'colsample_bytree': '0.8983', 'scale_pos_weight': 20, 'n_estimators': 400, 'learning_rate': '0.1242', 'eta': '0.0361', 'subsample': '0.9320', 'num_boost_round': 220}\n",
      "0.91690647482 0.00531108743174\n",
      "Score 0.9169 params {'max_depth': 5, 'gamma': '0.2394', 'colsample_bytree': '0.9569', 'scale_pos_weight': 33, 'n_estimators': 360, 'learning_rate': '0.1195', 'eta': '0.0241', 'subsample': '0.8898', 'num_boost_round': 160}\n",
      "0.917086330935 0.0052836082092\n",
      "Score 0.9171 params {'max_depth': 3, 'gamma': '0.4149', 'colsample_bytree': '0.8872', 'scale_pos_weight': 37, 'n_estimators': 380, 'learning_rate': '0.1086', 'eta': '0.0214', 'subsample': '0.9997', 'num_boost_round': 200}\n",
      "0.920863309353 0.00348753946577\n",
      "Score 0.9209 params {'max_depth': 5, 'gamma': '0.4365', 'colsample_bytree': '0.8582', 'scale_pos_weight': 59, 'n_estimators': 320, 'learning_rate': '0.1371', 'eta': '0.0311', 'subsample': '0.9541', 'num_boost_round': 140}\n",
      "0.913848920863 0.0065616677507\n",
      "Score 0.9138 params {'max_depth': 6, 'gamma': '0.1985', 'colsample_bytree': '0.9858', 'scale_pos_weight': 48, 'n_estimators': 340, 'learning_rate': '0.1050', 'eta': '0.0276', 'subsample': '0.9649', 'num_boost_round': 20}\n",
      "0.924100719424 0.00688170016896\n",
      "Score 0.9241 params {'max_depth': 4, 'gamma': '0.3525', 'colsample_bytree': '0.9985', 'scale_pos_weight': 29, 'n_estimators': 300, 'learning_rate': '0.1019', 'eta': '0.0404', 'subsample': '0.9814', 'num_boost_round': 160}\n",
      "0.914298561151 0.00449909991056\n",
      "Score 0.9143 params {'max_depth': 7, 'gamma': '0.2569', 'colsample_bytree': '0.8785', 'scale_pos_weight': 64, 'n_estimators': 400, 'learning_rate': '0.0943', 'eta': '0.0479', 'subsample': '0.8516', 'num_boost_round': 60}\n"
     ]
    },
    {
     "name": "stdout",
     "output_type": "stream",
     "text": [
      "0.918075539568 0.00611973481326\n",
      "Score 0.9181 params {'max_depth': 4, 'gamma': '0.4920', 'colsample_bytree': '0.9045', 'scale_pos_weight': 77, 'n_estimators': 280, 'learning_rate': '0.0922', 'eta': '0.0379', 'subsample': '0.9057', 'num_boost_round': 180}\n",
      "0.915917266187 0.00670491921811\n",
      "Score 0.9159 params {'max_depth': 3, 'gamma': '0.3739', 'colsample_bytree': '0.9651', 'scale_pos_weight': 26, 'n_estimators': 340, 'learning_rate': '0.0879', 'eta': '0.0559', 'subsample': '0.8825', 'num_boost_round': 120}\n",
      "0.920053956835 0.00493786111989\n",
      "Score 0.9201 params {'max_depth': 5, 'gamma': '0.4754', 'colsample_bytree': '0.9502', 'scale_pos_weight': 56, 'n_estimators': 340, 'learning_rate': '0.1260', 'eta': '0.0630', 'subsample': '0.9264', 'num_boost_round': 220}\n",
      "0.915287769784 0.00824007999205\n",
      "Score 0.9153 params {'max_depth': 6, 'gamma': '0.3047', 'colsample_bytree': '0.9159', 'scale_pos_weight': 69, 'n_estimators': 260, 'learning_rate': '0.1152', 'eta': '0.0185', 'subsample': '0.8097', 'num_boost_round': 140}\n",
      "0.915827338129 0.00390747499683\n",
      "Score 0.9158 params {'max_depth': 7, 'gamma': '0.2742', 'colsample_bytree': '0.8644', 'scale_pos_weight': 36, 'n_estimators': 380, 'learning_rate': '0.1338', 'eta': '0.0439', 'subsample': '0.8629', 'num_boost_round': 180}\n",
      "0.91214028777 0.00260481085575\n",
      "Score 0.9121 params {'max_depth': 8, 'gamma': '0.4607', 'colsample_bytree': '0.7671', 'scale_pos_weight': 40, 'n_estimators': 300, 'learning_rate': '0.1441', 'eta': '0.0515', 'subsample': '0.8287', 'num_boost_round': 200}\n",
      "0.921582733813 0.00729249458011\n",
      "Score 0.9216 params {'max_depth': 4, 'gamma': '0.3994', 'colsample_bytree': '0.7463', 'scale_pos_weight': 54, 'n_estimators': 320, 'learning_rate': '0.1071', 'eta': '0.0324', 'subsample': '0.7887', 'num_boost_round': 80}\n",
      "0.920323741007 0.00456069148673\n",
      "Score 0.9203 params {'max_depth': 5, 'gamma': '0.3640', 'colsample_bytree': '0.7829', 'scale_pos_weight': 43, 'n_estimators': 360, 'learning_rate': '0.0967', 'eta': '0.0450', 'subsample': '0.8957', 'num_boost_round': 160}\n"
     ]
    },
    {
     "ename": "KeyboardInterrupt",
     "evalue": "",
     "output_type": "error",
     "traceback": [
      "\u001b[0;31m---------------------------------------------------------------------------\u001b[0m",
      "\u001b[0;31mKeyboardInterrupt\u001b[0m                         Traceback (most recent call last)",
      "\u001b[0;32m<ipython-input-44-f36dc3a17887>\u001b[0m in \u001b[0;36m<module>\u001b[0;34m()\u001b[0m\n\u001b[1;32m     32\u001b[0m             \u001b[0mspace\u001b[0m\u001b[0;34m=\u001b[0m\u001b[0mspace\u001b[0m\u001b[0;34m,\u001b[0m\u001b[0;34m\u001b[0m\u001b[0m\n\u001b[1;32m     33\u001b[0m             \u001b[0malgo\u001b[0m\u001b[0;34m=\u001b[0m\u001b[0mtpe\u001b[0m\u001b[0;34m.\u001b[0m\u001b[0msuggest\u001b[0m\u001b[0;34m,\u001b[0m\u001b[0;34m\u001b[0m\u001b[0m\n\u001b[0;32m---> 34\u001b[0;31m             max_evals=150)\n\u001b[0m",
      "\u001b[0;32m/Users/yousfi/anaconda/lib/python3.6/site-packages/hyperopt/fmin.py\u001b[0m in \u001b[0;36mfmin\u001b[0;34m(fn, space, algo, max_evals, trials, rstate, allow_trials_fmin, pass_expr_memo_ctrl, catch_eval_exceptions, verbose, return_argmin)\u001b[0m\n\u001b[1;32m    318\u001b[0m                     verbose=verbose)\n\u001b[1;32m    319\u001b[0m     \u001b[0mrval\u001b[0m\u001b[0;34m.\u001b[0m\u001b[0mcatch_eval_exceptions\u001b[0m \u001b[0;34m=\u001b[0m \u001b[0mcatch_eval_exceptions\u001b[0m\u001b[0;34m\u001b[0m\u001b[0m\n\u001b[0;32m--> 320\u001b[0;31m     \u001b[0mrval\u001b[0m\u001b[0;34m.\u001b[0m\u001b[0mexhaust\u001b[0m\u001b[0;34m(\u001b[0m\u001b[0;34m)\u001b[0m\u001b[0;34m\u001b[0m\u001b[0m\n\u001b[0m\u001b[1;32m    321\u001b[0m     \u001b[0;32mif\u001b[0m \u001b[0mreturn_argmin\u001b[0m\u001b[0;34m:\u001b[0m\u001b[0;34m\u001b[0m\u001b[0m\n\u001b[1;32m    322\u001b[0m         \u001b[0;32mreturn\u001b[0m \u001b[0mtrials\u001b[0m\u001b[0;34m.\u001b[0m\u001b[0margmin\u001b[0m\u001b[0;34m\u001b[0m\u001b[0m\n",
      "\u001b[0;32m/Users/yousfi/anaconda/lib/python3.6/site-packages/hyperopt/fmin.py\u001b[0m in \u001b[0;36mexhaust\u001b[0;34m(self)\u001b[0m\n\u001b[1;32m    197\u001b[0m     \u001b[0;32mdef\u001b[0m \u001b[0mexhaust\u001b[0m\u001b[0;34m(\u001b[0m\u001b[0mself\u001b[0m\u001b[0;34m)\u001b[0m\u001b[0;34m:\u001b[0m\u001b[0;34m\u001b[0m\u001b[0m\n\u001b[1;32m    198\u001b[0m         \u001b[0mn_done\u001b[0m \u001b[0;34m=\u001b[0m \u001b[0mlen\u001b[0m\u001b[0;34m(\u001b[0m\u001b[0mself\u001b[0m\u001b[0;34m.\u001b[0m\u001b[0mtrials\u001b[0m\u001b[0;34m)\u001b[0m\u001b[0;34m\u001b[0m\u001b[0m\n\u001b[0;32m--> 199\u001b[0;31m         \u001b[0mself\u001b[0m\u001b[0;34m.\u001b[0m\u001b[0mrun\u001b[0m\u001b[0;34m(\u001b[0m\u001b[0mself\u001b[0m\u001b[0;34m.\u001b[0m\u001b[0mmax_evals\u001b[0m \u001b[0;34m-\u001b[0m \u001b[0mn_done\u001b[0m\u001b[0;34m,\u001b[0m \u001b[0mblock_until_done\u001b[0m\u001b[0;34m=\u001b[0m\u001b[0mself\u001b[0m\u001b[0;34m.\u001b[0m\u001b[0masync\u001b[0m\u001b[0;34m)\u001b[0m\u001b[0;34m\u001b[0m\u001b[0m\n\u001b[0m\u001b[1;32m    200\u001b[0m         \u001b[0mself\u001b[0m\u001b[0;34m.\u001b[0m\u001b[0mtrials\u001b[0m\u001b[0;34m.\u001b[0m\u001b[0mrefresh\u001b[0m\u001b[0;34m(\u001b[0m\u001b[0;34m)\u001b[0m\u001b[0;34m\u001b[0m\u001b[0m\n\u001b[1;32m    201\u001b[0m         \u001b[0;32mreturn\u001b[0m \u001b[0mself\u001b[0m\u001b[0;34m\u001b[0m\u001b[0m\n",
      "\u001b[0;32m/Users/yousfi/anaconda/lib/python3.6/site-packages/hyperopt/fmin.py\u001b[0m in \u001b[0;36mrun\u001b[0;34m(self, N, block_until_done)\u001b[0m\n\u001b[1;32m    171\u001b[0m             \u001b[0;32melse\u001b[0m\u001b[0;34m:\u001b[0m\u001b[0;34m\u001b[0m\u001b[0m\n\u001b[1;32m    172\u001b[0m                 \u001b[0;31m# -- loop over trials and do the jobs directly\u001b[0m\u001b[0;34m\u001b[0m\u001b[0;34m\u001b[0m\u001b[0m\n\u001b[0;32m--> 173\u001b[0;31m                 \u001b[0mself\u001b[0m\u001b[0;34m.\u001b[0m\u001b[0mserial_evaluate\u001b[0m\u001b[0;34m(\u001b[0m\u001b[0;34m)\u001b[0m\u001b[0;34m\u001b[0m\u001b[0m\n\u001b[0m\u001b[1;32m    174\u001b[0m \u001b[0;34m\u001b[0m\u001b[0m\n\u001b[1;32m    175\u001b[0m             \u001b[0;32mif\u001b[0m \u001b[0mstopped\u001b[0m\u001b[0;34m:\u001b[0m\u001b[0;34m\u001b[0m\u001b[0m\n",
      "\u001b[0;32m/Users/yousfi/anaconda/lib/python3.6/site-packages/hyperopt/fmin.py\u001b[0m in \u001b[0;36mserial_evaluate\u001b[0;34m(self, N)\u001b[0m\n\u001b[1;32m     90\u001b[0m                 \u001b[0mctrl\u001b[0m \u001b[0;34m=\u001b[0m \u001b[0mbase\u001b[0m\u001b[0;34m.\u001b[0m\u001b[0mCtrl\u001b[0m\u001b[0;34m(\u001b[0m\u001b[0mself\u001b[0m\u001b[0;34m.\u001b[0m\u001b[0mtrials\u001b[0m\u001b[0;34m,\u001b[0m \u001b[0mcurrent_trial\u001b[0m\u001b[0;34m=\u001b[0m\u001b[0mtrial\u001b[0m\u001b[0;34m)\u001b[0m\u001b[0;34m\u001b[0m\u001b[0m\n\u001b[1;32m     91\u001b[0m                 \u001b[0;32mtry\u001b[0m\u001b[0;34m:\u001b[0m\u001b[0;34m\u001b[0m\u001b[0m\n\u001b[0;32m---> 92\u001b[0;31m                     \u001b[0mresult\u001b[0m \u001b[0;34m=\u001b[0m \u001b[0mself\u001b[0m\u001b[0;34m.\u001b[0m\u001b[0mdomain\u001b[0m\u001b[0;34m.\u001b[0m\u001b[0mevaluate\u001b[0m\u001b[0;34m(\u001b[0m\u001b[0mspec\u001b[0m\u001b[0;34m,\u001b[0m \u001b[0mctrl\u001b[0m\u001b[0;34m)\u001b[0m\u001b[0;34m\u001b[0m\u001b[0m\n\u001b[0m\u001b[1;32m     93\u001b[0m                 \u001b[0;32mexcept\u001b[0m \u001b[0mException\u001b[0m \u001b[0;32mas\u001b[0m \u001b[0me\u001b[0m\u001b[0;34m:\u001b[0m\u001b[0;34m\u001b[0m\u001b[0m\n\u001b[1;32m     94\u001b[0m                     \u001b[0mlogger\u001b[0m\u001b[0;34m.\u001b[0m\u001b[0minfo\u001b[0m\u001b[0;34m(\u001b[0m\u001b[0;34m'job exception: %s'\u001b[0m \u001b[0;34m%\u001b[0m \u001b[0mstr\u001b[0m\u001b[0;34m(\u001b[0m\u001b[0me\u001b[0m\u001b[0;34m)\u001b[0m\u001b[0;34m)\u001b[0m\u001b[0;34m\u001b[0m\u001b[0m\n",
      "\u001b[0;32m/Users/yousfi/anaconda/lib/python3.6/site-packages/hyperopt/base.py\u001b[0m in \u001b[0;36mevaluate\u001b[0;34m(self, config, ctrl, attach_attachments)\u001b[0m\n\u001b[1;32m    838\u001b[0m                 \u001b[0mmemo\u001b[0m\u001b[0;34m=\u001b[0m\u001b[0mmemo\u001b[0m\u001b[0;34m,\u001b[0m\u001b[0;34m\u001b[0m\u001b[0m\n\u001b[1;32m    839\u001b[0m                 print_node_on_error=self.rec_eval_print_node_on_error)\n\u001b[0;32m--> 840\u001b[0;31m             \u001b[0mrval\u001b[0m \u001b[0;34m=\u001b[0m \u001b[0mself\u001b[0m\u001b[0;34m.\u001b[0m\u001b[0mfn\u001b[0m\u001b[0;34m(\u001b[0m\u001b[0mpyll_rval\u001b[0m\u001b[0;34m)\u001b[0m\u001b[0;34m\u001b[0m\u001b[0m\n\u001b[0m\u001b[1;32m    841\u001b[0m \u001b[0;34m\u001b[0m\u001b[0m\n\u001b[1;32m    842\u001b[0m         \u001b[0;32mif\u001b[0m \u001b[0misinstance\u001b[0m\u001b[0;34m(\u001b[0m\u001b[0mrval\u001b[0m\u001b[0;34m,\u001b[0m \u001b[0;34m(\u001b[0m\u001b[0mfloat\u001b[0m\u001b[0;34m,\u001b[0m \u001b[0mint\u001b[0m\u001b[0;34m,\u001b[0m \u001b[0mnp\u001b[0m\u001b[0;34m.\u001b[0m\u001b[0mnumber\u001b[0m\u001b[0;34m)\u001b[0m\u001b[0;34m)\u001b[0m\u001b[0;34m:\u001b[0m\u001b[0;34m\u001b[0m\u001b[0m\n",
      "\u001b[0;32m<ipython-input-44-f36dc3a17887>\u001b[0m in \u001b[0;36mobjective\u001b[0;34m(params)\u001b[0m\n\u001b[1;32m     12\u001b[0m     }    \n\u001b[1;32m     13\u001b[0m     \u001b[0mclf\u001b[0m \u001b[0;34m=\u001b[0m \u001b[0mXGBClassifier\u001b[0m\u001b[0;34m(\u001b[0m\u001b[0mn_jobs\u001b[0m\u001b[0;34m=\u001b[0m\u001b[0;36m4\u001b[0m\u001b[0;34m,\u001b[0m \u001b[0meval_metric\u001b[0m\u001b[0;34m=\u001b[0m\u001b[0;34m\"auc\"\u001b[0m\u001b[0;34m,\u001b[0m \u001b[0;34m**\u001b[0m\u001b[0mparams\u001b[0m\u001b[0;34m)\u001b[0m\u001b[0;34m\u001b[0m\u001b[0m\n\u001b[0;32m---> 14\u001b[0;31m     \u001b[0mscore\u001b[0m \u001b[0;34m=\u001b[0m \u001b[0mcross_val_pimped\u001b[0m\u001b[0;34m(\u001b[0m\u001b[0mclf\u001b[0m\u001b[0;34m,\u001b[0m \u001b[0mX_train_s\u001b[0m\u001b[0;34m,\u001b[0m \u001b[0my_train\u001b[0m\u001b[0;34m,\u001b[0m \u001b[0;36m8\u001b[0m\u001b[0;34m)\u001b[0m\u001b[0;34m.\u001b[0m\u001b[0mmean\u001b[0m\u001b[0;34m(\u001b[0m\u001b[0;34m)\u001b[0m\u001b[0;34m\u001b[0m\u001b[0m\n\u001b[0m\u001b[1;32m     15\u001b[0m     \u001b[0mprint\u001b[0m\u001b[0;34m(\u001b[0m\u001b[0;34m\"Score {:.4f} params {}\"\u001b[0m\u001b[0;34m.\u001b[0m\u001b[0mformat\u001b[0m\u001b[0;34m(\u001b[0m\u001b[0mscore\u001b[0m\u001b[0;34m,\u001b[0m \u001b[0mparams\u001b[0m\u001b[0;34m)\u001b[0m\u001b[0;34m)\u001b[0m\u001b[0;34m\u001b[0m\u001b[0m\n\u001b[1;32m     16\u001b[0m     \u001b[0;32mreturn\u001b[0m \u001b[0;34m-\u001b[0m\u001b[0mscore\u001b[0m\u001b[0;34m\u001b[0m\u001b[0m\n",
      "\u001b[0;32m<ipython-input-42-7fefa4b17d37>\u001b[0m in \u001b[0;36mcross_val_pimped\u001b[0;34m(clf, X_train, y_train, n)\u001b[0m\n\u001b[1;32m     19\u001b[0m         \u001b[0my_train_test\u001b[0m \u001b[0;34m=\u001b[0m \u001b[0my_train\u001b[0m\u001b[0;34m[\u001b[0m\u001b[0midx_test\u001b[0m\u001b[0;34m]\u001b[0m\u001b[0;34m\u001b[0m\u001b[0m\n\u001b[1;32m     20\u001b[0m \u001b[0;34m\u001b[0m\u001b[0m\n\u001b[0;32m---> 21\u001b[0;31m         \u001b[0mclf\u001b[0m\u001b[0;34m.\u001b[0m\u001b[0mfit\u001b[0m\u001b[0;34m(\u001b[0m\u001b[0mX_train_train\u001b[0m\u001b[0;34m,\u001b[0m \u001b[0my_train_train\u001b[0m\u001b[0;34m)\u001b[0m\u001b[0;34m\u001b[0m\u001b[0m\n\u001b[0m\u001b[1;32m     22\u001b[0m         \u001b[0my_pred\u001b[0m \u001b[0;34m=\u001b[0m \u001b[0mclf\u001b[0m\u001b[0;34m.\u001b[0m\u001b[0mpredict\u001b[0m\u001b[0;34m(\u001b[0m\u001b[0mX_train_test\u001b[0m\u001b[0;34m)\u001b[0m\u001b[0;34m\u001b[0m\u001b[0m\n\u001b[1;32m     23\u001b[0m         \u001b[0mr\u001b[0m\u001b[0;34m[\u001b[0m\u001b[0mi\u001b[0m\u001b[0;34m]\u001b[0m \u001b[0;34m=\u001b[0m \u001b[0;34m(\u001b[0m\u001b[0maccuracy_score\u001b[0m\u001b[0;34m(\u001b[0m\u001b[0my_pred\u001b[0m\u001b[0;34m,\u001b[0m \u001b[0my_train_test\u001b[0m\u001b[0;34m)\u001b[0m\u001b[0;34m)\u001b[0m\u001b[0;34m\u001b[0m\u001b[0m\n",
      "\u001b[0;32m/Users/yousfi/anaconda/lib/python3.6/site-packages/xgboost/sklearn.py\u001b[0m in \u001b[0;36mfit\u001b[0;34m(self, X, y, sample_weight, eval_set, eval_metric, early_stopping_rounds, verbose, xgb_model)\u001b[0m\n\u001b[1;32m    504\u001b[0m                               \u001b[0mearly_stopping_rounds\u001b[0m\u001b[0;34m=\u001b[0m\u001b[0mearly_stopping_rounds\u001b[0m\u001b[0;34m,\u001b[0m\u001b[0;34m\u001b[0m\u001b[0m\n\u001b[1;32m    505\u001b[0m                               \u001b[0mevals_result\u001b[0m\u001b[0;34m=\u001b[0m\u001b[0mevals_result\u001b[0m\u001b[0;34m,\u001b[0m \u001b[0mobj\u001b[0m\u001b[0;34m=\u001b[0m\u001b[0mobj\u001b[0m\u001b[0;34m,\u001b[0m \u001b[0mfeval\u001b[0m\u001b[0;34m=\u001b[0m\u001b[0mfeval\u001b[0m\u001b[0;34m,\u001b[0m\u001b[0;34m\u001b[0m\u001b[0m\n\u001b[0;32m--> 506\u001b[0;31m                               verbose_eval=verbose, xgb_model=None)\n\u001b[0m\u001b[1;32m    507\u001b[0m \u001b[0;34m\u001b[0m\u001b[0m\n\u001b[1;32m    508\u001b[0m         \u001b[0mself\u001b[0m\u001b[0;34m.\u001b[0m\u001b[0mobjective\u001b[0m \u001b[0;34m=\u001b[0m \u001b[0mxgb_options\u001b[0m\u001b[0;34m[\u001b[0m\u001b[0;34m\"objective\"\u001b[0m\u001b[0;34m]\u001b[0m\u001b[0;34m\u001b[0m\u001b[0m\n",
      "\u001b[0;32m/Users/yousfi/anaconda/lib/python3.6/site-packages/xgboost/training.py\u001b[0m in \u001b[0;36mtrain\u001b[0;34m(params, dtrain, num_boost_round, evals, obj, feval, maximize, early_stopping_rounds, evals_result, verbose_eval, xgb_model, callbacks, learning_rates)\u001b[0m\n\u001b[1;32m    202\u001b[0m                            \u001b[0mevals\u001b[0m\u001b[0;34m=\u001b[0m\u001b[0mevals\u001b[0m\u001b[0;34m,\u001b[0m\u001b[0;34m\u001b[0m\u001b[0m\n\u001b[1;32m    203\u001b[0m                            \u001b[0mobj\u001b[0m\u001b[0;34m=\u001b[0m\u001b[0mobj\u001b[0m\u001b[0;34m,\u001b[0m \u001b[0mfeval\u001b[0m\u001b[0;34m=\u001b[0m\u001b[0mfeval\u001b[0m\u001b[0;34m,\u001b[0m\u001b[0;34m\u001b[0m\u001b[0m\n\u001b[0;32m--> 204\u001b[0;31m                            xgb_model=xgb_model, callbacks=callbacks)\n\u001b[0m\u001b[1;32m    205\u001b[0m \u001b[0;34m\u001b[0m\u001b[0m\n\u001b[1;32m    206\u001b[0m \u001b[0;34m\u001b[0m\u001b[0m\n",
      "\u001b[0;32m/Users/yousfi/anaconda/lib/python3.6/site-packages/xgboost/training.py\u001b[0m in \u001b[0;36m_train_internal\u001b[0;34m(params, dtrain, num_boost_round, evals, obj, feval, xgb_model, callbacks)\u001b[0m\n\u001b[1;32m     72\u001b[0m         \u001b[0;31m# Skip the first update if it is a recovery step.\u001b[0m\u001b[0;34m\u001b[0m\u001b[0;34m\u001b[0m\u001b[0m\n\u001b[1;32m     73\u001b[0m         \u001b[0;32mif\u001b[0m \u001b[0mversion\u001b[0m \u001b[0;34m%\u001b[0m \u001b[0;36m2\u001b[0m \u001b[0;34m==\u001b[0m \u001b[0;36m0\u001b[0m\u001b[0;34m:\u001b[0m\u001b[0;34m\u001b[0m\u001b[0m\n\u001b[0;32m---> 74\u001b[0;31m             \u001b[0mbst\u001b[0m\u001b[0;34m.\u001b[0m\u001b[0mupdate\u001b[0m\u001b[0;34m(\u001b[0m\u001b[0mdtrain\u001b[0m\u001b[0;34m,\u001b[0m \u001b[0mi\u001b[0m\u001b[0;34m,\u001b[0m \u001b[0mobj\u001b[0m\u001b[0;34m)\u001b[0m\u001b[0;34m\u001b[0m\u001b[0m\n\u001b[0m\u001b[1;32m     75\u001b[0m             \u001b[0mbst\u001b[0m\u001b[0;34m.\u001b[0m\u001b[0msave_rabit_checkpoint\u001b[0m\u001b[0;34m(\u001b[0m\u001b[0;34m)\u001b[0m\u001b[0;34m\u001b[0m\u001b[0m\n\u001b[1;32m     76\u001b[0m             \u001b[0mversion\u001b[0m \u001b[0;34m+=\u001b[0m \u001b[0;36m1\u001b[0m\u001b[0;34m\u001b[0m\u001b[0m\n",
      "\u001b[0;32m/Users/yousfi/anaconda/lib/python3.6/site-packages/xgboost/core.py\u001b[0m in \u001b[0;36mupdate\u001b[0;34m(self, dtrain, iteration, fobj)\u001b[0m\n\u001b[1;32m    896\u001b[0m         \u001b[0;32mif\u001b[0m \u001b[0mfobj\u001b[0m \u001b[0;32mis\u001b[0m \u001b[0;32mNone\u001b[0m\u001b[0;34m:\u001b[0m\u001b[0;34m\u001b[0m\u001b[0m\n\u001b[1;32m    897\u001b[0m             _check_call(_LIB.XGBoosterUpdateOneIter(self.handle, ctypes.c_int(iteration),\n\u001b[0;32m--> 898\u001b[0;31m                                                     dtrain.handle))\n\u001b[0m\u001b[1;32m    899\u001b[0m         \u001b[0;32melse\u001b[0m\u001b[0;34m:\u001b[0m\u001b[0;34m\u001b[0m\u001b[0m\n\u001b[1;32m    900\u001b[0m             \u001b[0mpred\u001b[0m \u001b[0;34m=\u001b[0m \u001b[0mself\u001b[0m\u001b[0;34m.\u001b[0m\u001b[0mpredict\u001b[0m\u001b[0;34m(\u001b[0m\u001b[0mdtrain\u001b[0m\u001b[0;34m)\u001b[0m\u001b[0;34m\u001b[0m\u001b[0m\n",
      "\u001b[0;31mKeyboardInterrupt\u001b[0m: "
     ]
    }
   ],
   "source": [
    "def objective(params):\n",
    "    params = {\n",
    "        'max_depth': int(params['max_depth']),\n",
    "        'gamma': \"{:.4f}\".format(params['gamma']),\n",
    "        'colsample_bytree': '{:.4f}'.format(params['colsample_bytree']),\n",
    "        'scale_pos_weight': int(params['scale_pos_weight']),\n",
    "        'n_estimators': int(params['n_estimators']),\n",
    "        'learning_rate': '{:.4f}'.format(params['learning_rate']),\n",
    "        'eta': '{:.4f}'.format(params['eta']),\n",
    "        'subsample': '{:.4f}'.format(params['subsample']),\n",
    "        'num_boost_round': int(params['num_boost_round'])\n",
    "    }    \n",
    "    clf = XGBClassifier(n_jobs=4, eval_metric=\"auc\", **params)\n",
    "    score = cross_val_pimped(clf, X_train_s, y_train, 8).mean()\n",
    "    print(\"Score {:.4f} params {}\".format(score, params))\n",
    "    return -score\n",
    "\n",
    "space = {\n",
    "    'max_depth': hp.quniform('max_depth', 3, 12, 1),\n",
    "    'colsample_bytree': hp.uniform('colsample_bytree', 0.7, 1.0),\n",
    "    'gamma': hp.uniform('gamma', 0.0, 0.6),\n",
    "    'scale_pos_weight': hp.quniform('scale_pose_weight', 10, 100, 1),\n",
    "    'n_estimators':  hp.quniform('n_estimators', 200, 400, 20),\n",
    "    'learning_rate':  hp.uniform('learning_rate', 0.04, 0.15),\n",
    "    'eta': hp.uniform('eta', 0.01, 0.1),\n",
    "    'subsample': hp.uniform('subsample', 0.7, 1.0),\n",
    "    'num_boost_round': hp.quniform('num_boost_round', 10, 220, 20)\n",
    "    \n",
    "}\n",
    "\n",
    "best = fmin(fn=objective,\n",
    "            space=space,\n",
    "            algo=tpe.suggest,\n",
    "            max_evals=150)"
   ]
  },
  {
   "cell_type": "code",
   "execution_count": 54,
   "metadata": {
    "collapsed": true
   },
   "outputs": [],
   "source": [
    "params = {'max_depth': 4, 'gamma': '0.3197', 'colsample_bytree': '0.9559', 'scale_pos_weight': 48, 'n_estimators': 400, 'learning_rate': '0.1147', 'eta': '0.0289', 'subsample': '0.9040', 'num_boost_round': 200}\n",
    "clf = XGBClassifier(n_jobs=4, eval_metric=\"auc\", **params)\n",
    "model.fit(X_train_s, y_train)\n",
    "y_pred = model.predict(X_test_s)"
   ]
  },
  {
   "cell_type": "code",
   "execution_count": 55,
   "metadata": {},
   "outputs": [
    {
     "data": {
      "text/plain": [
       "0.1614196911971125"
      ]
     },
     "execution_count": 55,
     "metadata": {},
     "output_type": "execute_result"
    }
   ],
   "source": [
    "np.sum(y_pred)/len(y_pred)"
   ]
  },
  {
   "cell_type": "code",
   "execution_count": 52,
   "metadata": {
    "collapsed": true
   },
   "outputs": [],
   "source": [
    "params = {'max_depth': 4, \n",
    "          'gamma': 0.3197, \n",
    "          'colsample_bytree': 0.9559, \n",
    "          'scale_pos_weight': 48, \n",
    "          'n_estimators': 400, \n",
    "          'learning_rate': 0.1147, \n",
    "          'eta': 0.0289, \n",
    "          'subsample': 0.9040, \n",
    "          'num_boost_round': 200}\n",
    "clf = XGBClassifier(n_jobs=4, eval_metric=\"auc\", **params)\n",
    "model.fit(X_train_s, y_train)\n",
    "y_pred = model.predict(X_test_s)"
   ]
  },
  {
   "cell_type": "code",
   "execution_count": 53,
   "metadata": {},
   "outputs": [
    {
     "data": {
      "text/plain": [
       "0.1614196911971125"
      ]
     },
     "execution_count": 53,
     "metadata": {},
     "output_type": "execute_result"
    }
   ],
   "source": [
    "np.sum(y_pred)/len(y_pred)"
   ]
  },
  {
   "cell_type": "code",
   "execution_count": null,
   "metadata": {
    "collapsed": true
   },
   "outputs": [],
   "source": []
  },
  {
   "cell_type": "code",
   "execution_count": null,
   "metadata": {
    "collapsed": true
   },
   "outputs": [],
   "source": []
  },
  {
   "cell_type": "code",
   "execution_count": 47,
   "metadata": {
    "collapsed": true
   },
   "outputs": [],
   "source": [
    "y_pred = np.array(y_pred, dtype='bool')\n",
    "StackingSubmission = pd.DataFrame(y_pred)\n",
    "random = pd.read_csv(\"random.csv\")\n",
    "StackingSubmission = pd.DataFrame({'Id': random.Id,'Prediction': y_pred})\n",
    "StackingSubmission.to_csv(\"submission.csv\", index=False)"
   ]
  },
  {
   "cell_type": "code",
   "execution_count": null,
   "metadata": {
    "collapsed": true
   },
   "outputs": [],
   "source": []
  }
 ],
 "metadata": {
  "kernelspec": {
   "display_name": "Python 3",
   "language": "python",
   "name": "python3"
  },
  "language_info": {
   "codemirror_mode": {
    "name": "ipython",
    "version": 3
   },
   "file_extension": ".py",
   "mimetype": "text/x-python",
   "name": "python",
   "nbconvert_exporter": "python",
   "pygments_lexer": "ipython3",
   "version": "3.6.1"
  }
 },
 "nbformat": 4,
 "nbformat_minor": 2
}
