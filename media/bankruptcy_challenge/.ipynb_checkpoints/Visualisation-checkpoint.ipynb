{
 "cells": [
  {
   "cell_type": "code",
   "execution_count": 47,
   "metadata": {
    "collapsed": true
   },
   "outputs": [],
   "source": [
    "import numpy as np\n",
    "import matplotlib.pyplot as plt"
   ]
  },
  {
   "cell_type": "code",
   "execution_count": null,
   "metadata": {
    "collapsed": true
   },
   "outputs": [],
   "source": []
  },
  {
   "cell_type": "code",
   "execution_count": 453,
   "metadata": {
    "collapsed": true
   },
   "outputs": [],
   "source": [
    "X_train_k = np.loadtxt(\"X_train.csv\")\n",
    "y_train_k = np.loadtxt(\"y_train.csv\")\n",
    "X_test_k = np.loadtxt(\"X_test.csv\")"
   ]
  },
  {
   "cell_type": "code",
   "execution_count": 251,
   "metadata": {},
   "outputs": [
    {
     "data": {
      "text/plain": [
       "array([    0,     6,     6,   121,    77,     6,     6,    87,     7,\n",
       "           6,    24,   121,   117,     6,    33,    88,    87,     6,\n",
       "         118,   117,  5104,     6,   117,   830,     6,    88,  2222,\n",
       "         719,     6,   117,   117,   320,   121,    87,     6,     6,\n",
       "       16777,     6,   117,   121,   684,   117,   117,   117,  1885,\n",
       "         122,   261,     7,   117,    87,     6,   264,   719,   719,\n",
       "           1,   117,     4,    78,     4,  1889,    92,   117,   121,   719])"
      ]
     },
     "execution_count": 251,
     "metadata": {},
     "output_type": "execute_result"
    }
   ],
   "source": [
    "np.sum(np.isnan(X_train_k),axis=0)"
   ]
  },
  {
   "cell_type": "code",
   "execution_count": 38,
   "metadata": {},
   "outputs": [],
   "source": [
    "X_train_o_1 = np.genfromtxt(\"1year.csv\", delimiter = \",\", skip_header=1, missing_values='?')\n",
    "X_train_o_2 = np.genfromtxt(\"2year.csv\", delimiter = \",\", skip_header=1, missing_values='?')\n",
    "X_train_o_3 = np.genfromtxt(\"3year.csv\", delimiter = \",\", skip_header=1, missing_values='?')\n",
    "X_train_o_4 = np.genfromtxt(\"4year.csv\", delimiter = \",\", skip_header=1, missing_values='?')\n",
    "X_train_o_5 = np.genfromtxt(\"5year.csv\", delimiter = \",\", skip_header=1, missing_values='?')"
   ]
  },
  {
   "cell_type": "code",
   "execution_count": 355,
   "metadata": {},
   "outputs": [],
   "source": [
    "X_train_o = np.r_[X_train_o_1,X_train_o_2,X_train_o_3,X_train_o_4, X_train_o_5]"
   ]
  },
  {
   "cell_type": "code",
   "execution_count": 356,
   "metadata": {},
   "outputs": [],
   "source": [
    "y_train_o = X_train_o[:,64]\n",
    "X_train_o = X_train_o[:,0:64]"
   ]
  },
  {
   "cell_type": "code",
   "execution_count": 105,
   "metadata": {},
   "outputs": [
    {
     "data": {
      "image/png": "[encoded data removed]",
      "text/plain": [
       "<matplotlib.figure.Figure at 0x10dc63c88>"
      ]
     },
     "metadata": {},
     "output_type": "display_data"
    }
   ],
   "source": [
    "feature_nan = np.sum(np.isnan(X_train_o[y_train==1]),axis=1)\n",
    "plt.hist(feature_nan, bins=40, normed=True)\n",
    "plt.show()"
   ]
  },
  {
   "cell_type": "code",
   "execution_count": 106,
   "metadata": {},
   "outputs": [
    {
     "data": {
      "image/png": "[encoded data removed]",
      "text/plain": [
       "<matplotlib.figure.Figure at 0x10d304048>"
      ]
     },
     "metadata": {},
     "output_type": "display_data"
    }
   ],
   "source": [
    "feature_nan = np.sum(np.isnan(X_train_o[y_train==0]),axis=1)\n",
    "plt.hist(feature_nan, bins=40, normed=True)\n",
    "plt.show()"
   ]
  },
  {
   "cell_type": "code",
   "execution_count": 107,
   "metadata": {},
   "outputs": [
    {
     "data": {
      "image/png": "[encoded data removed]",
      "text/plain": [
       "<matplotlib.figure.Figure at 0x10cbb0c88>"
      ]
     },
     "metadata": {},
     "output_type": "display_data"
    }
   ],
   "source": [
    "feature_nan = np.sum(np.isnan(X_test_k),axis=1)\n",
    "plt.hist(feature_nan, bins=40, normed=True)\n",
    "plt.show()"
   ]
  },
  {
   "cell_type": "code",
   "execution_count": 111,
   "metadata": {},
   "outputs": [
    {
     "data": {
      "text/plain": [
       "2"
      ]
     },
     "execution_count": 111,
     "metadata": {},
     "output_type": "execute_result"
    }
   ],
   "source": [
    "np.sum(feature_nan==15)"
   ]
  },
  {
   "cell_type": "code",
   "execution_count": 100,
   "metadata": {},
   "outputs": [
    {
     "name": "stderr",
     "output_type": "stream",
     "text": [
      "/Users/yousfi/anaconda/lib/python3.6/site-packages/ipykernel_launcher.py:1: RuntimeWarning: invalid value encountered in greater\n",
      "  \"\"\"Entry point for launching an IPython kernel.\n"
     ]
    },
    {
     "data": {
      "text/plain": [
       "0.79876071065498377"
      ]
     },
     "execution_count": 100,
     "metadata": {},
     "output_type": "execute_result"
    }
   ],
   "source": [
    "100*np.sum(X_train_o[y_train==0,51]>4)/np.sum(y_train==0)"
   ]
  },
  {
   "cell_type": "code",
   "execution_count": 86,
   "metadata": {},
   "outputs": [
    {
     "data": {
      "image/png": "[encoded data removed]",
      "text/plain": [
       "<matplotlib.figure.Figure at 0x10dede710>"
      ]
     },
     "metadata": {},
     "output_type": "display_data"
    }
   ],
   "source": [
    "c_15_0 = X_train_o[y_train==0,51]\n",
    "c_15_0 = c_15_0[~np.isnan(c_15_0)]\n",
    "c_15_0 = c_15_0[c_15_0>200]\n",
    "c_15_0 = c_15_0[c_15_0<1000]\n",
    "plt.hist(c_15_0, bins=100, normed=True)\n",
    "plt.show()"
   ]
  },
  {
   "cell_type": "code",
   "execution_count": 82,
   "metadata": {},
   "outputs": [
    {
     "data": {
      "text/plain": [
       "88433.0"
      ]
     },
     "execution_count": 82,
     "metadata": {},
     "output_type": "execute_result"
    }
   ],
   "source": [
    "np.nanmax(X_train_o[y_train==0,51])"
   ]
  },
  {
   "cell_type": "code",
   "execution_count": 112,
   "metadata": {
    "collapsed": true
   },
   "outputs": [],
   "source": [
    "from sklearn.preprocessing import RobustScaler\n",
    "rs = RobustScaler()"
   ]
  },
  {
   "cell_type": "code",
   "execution_count": 218,
   "metadata": {},
   "outputs": [
    {
     "data": {
      "text/plain": [
       "array([  5.31070335e-02,   5.43902983e-01,   1.57410479e-01,\n",
       "         6.42448489e+00,  -3.67042710e+02,   3.96304249e-05,\n",
       "         1.13939241e-01,   1.29464535e+01,   2.68872757e+00,\n",
       "         6.77066644e-01,   1.50182542e-01,   1.37739675e+00,\n",
       "         8.37042498e-01,   1.13950661e-01,   1.87322022e+03,\n",
       "         1.62422448e+00,   1.41129153e+01,   1.19283759e-01,\n",
       "         1.69654528e-01,   2.51663806e+02,   3.98849392e+00,\n",
       "         1.31368875e-01,   1.51233896e-01,   2.97857444e-01,\n",
       "         4.46242709e-01,   1.46602995e+00,   1.14560296e+03,\n",
       "         6.14629642e+00,   4.01538268e+00,   7.32819317e+00,\n",
       "         1.87431576e-01,   9.13046033e+02,   8.56527132e+00,\n",
       "         5.40002650e+00,   1.31277853e-01,   2.91646013e+00,\n",
       "         1.07049797e+02,   7.74442654e-01,  -1.14015301e-01,\n",
       "         2.14349084e+00,   8.11759174e+00,  -1.48587682e-01,\n",
       "         1.11721524e+03,   8.65556264e+02,   1.53358458e+01,\n",
       "         5.55439474e+00,   3.71866965e+02,   4.68013146e-02,\n",
       "        -4.86978131e-01,   5.96660671e+00,   4.41008449e-01,\n",
       "         6.73868485e+00,   2.24819590e+01,   2.33497465e+01,\n",
       "         8.02049287e+03,  -2.73560448e+01,   4.85415258e-02,\n",
       "         3.14886164e+01,   1.37008754e+00,   4.63304748e+02,\n",
       "         1.71196850e+01,   1.50587132e+03,   9.36693154e+00,\n",
       "         7.10286488e+01])"
      ]
     },
     "execution_count": 218,
     "metadata": {},
     "output_type": "execute_result"
    }
   ],
   "source": [
    "31, 54"
   ]
  },
  {
   "cell_type": "code",
   "execution_count": 225,
   "metadata": {},
   "outputs": [
    {
     "data": {
      "text/plain": [
       "6079.444436714768"
      ]
     },
     "execution_count": 225,
     "metadata": {},
     "output_type": "execute_result"
    }
   ],
   "source": [
    "np.nanmean(X_train_o[y_train==1,31], axis=0)"
   ]
  },
  {
   "cell_type": "code",
   "execution_count": 226,
   "metadata": {},
   "outputs": [
    {
     "data": {
      "text/plain": [
       "913.04603282452558"
      ]
     },
     "execution_count": 226,
     "metadata": {},
     "output_type": "execute_result"
    }
   ],
   "source": [
    "np.nanmean(X_train_o[y_train==0,31], axis=0)"
   ]
  },
  {
   "cell_type": "code",
   "execution_count": null,
   "metadata": {
    "collapsed": true
   },
   "outputs": [],
   "source": [
    "X_train_k[isnan(X_train_k[y_train_k==0,15]),15] = mean -2.79 std 138"
   ]
  },
  {
   "cell_type": "code",
   "execution_count": null,
   "metadata": {
    "collapsed": true
   },
   "outputs": [],
   "source": []
  },
  {
   "cell_type": "code",
   "execution_count": null,
   "metadata": {
    "collapsed": true
   },
   "outputs": [],
   "source": []
  },
  {
   "cell_type": "code",
   "execution_count": null,
   "metadata": {
    "collapsed": true
   },
   "outputs": [],
   "source": []
  },
  {
   "cell_type": "code",
   "execution_count": null,
   "metadata": {
    "collapsed": true
   },
   "outputs": [],
   "source": []
  },
  {
   "cell_type": "code",
   "execution_count": null,
   "metadata": {
    "collapsed": true
   },
   "outputs": [],
   "source": []
  },
  {
   "cell_type": "code",
   "execution_count": 346,
   "metadata": {},
   "outputs": [
    {
     "ename": "IndexError",
     "evalue": "index 0 is out of bounds for axis 0 with size 0",
     "output_type": "error",
     "traceback": [
      "\u001b[0;31m---------------------------------------------------------------------------\u001b[0m",
      "\u001b[0;31mIndexError\u001b[0m                                Traceback (most recent call last)",
      "\u001b[0;32m<ipython-input-346-2ae766d334bd>\u001b[0m in \u001b[0;36m<module>\u001b[0;34m()\u001b[0m\n\u001b[1;32m      4\u001b[0m                                     \u001b[0mX_train_o\u001b[0m\u001b[0;34m[\u001b[0m\u001b[0;34m:\u001b[0m\u001b[0;34m,\u001b[0m\u001b[0;36m57\u001b[0m\u001b[0;34m]\u001b[0m\u001b[0;34m==\u001b[0m\u001b[0mX_train_k\u001b[0m\u001b[0;34m[\u001b[0m\u001b[0mi\u001b[0m\u001b[0;34m,\u001b[0m\u001b[0;36m57\u001b[0m\u001b[0;34m]\u001b[0m\u001b[0;34m,\u001b[0m\u001b[0;34m\u001b[0m\u001b[0m\n\u001b[1;32m      5\u001b[0m                                     X_train_o[:,59]==X_train_k[i,59]))[0]\n\u001b[0;32m----> 6\u001b[0;31m     \u001b[0mr\u001b[0m\u001b[0;34m.\u001b[0m\u001b[0mappend\u001b[0m\u001b[0;34m(\u001b[0m\u001b[0marray\u001b[0m\u001b[0;34m[\u001b[0m\u001b[0;36m0\u001b[0m\u001b[0;34m]\u001b[0m\u001b[0;34m)\u001b[0m\u001b[0;34m\u001b[0m\u001b[0m\n\u001b[0m",
      "\u001b[0;31mIndexError\u001b[0m: index 0 is out of bounds for axis 0 with size 0"
     ]
    }
   ],
   "source": [
    "t = []\n",
    "for i in range(len(X_test_k)):\n",
    "    array = np.where(np.logical_and(X_train_o[:,55]==X_train_k[i,55], \n",
    "                                    X_train_o[:,57]==X_train_k[i,57], \n",
    "                                    X_train_o[:,59]==X_train_k[i,59]))[0]\n",
    "    if len(array==1): r.append(array[0])"
   ]
  },
  {
   "cell_type": "code",
   "execution_count": 342,
   "metadata": {},
   "outputs": [],
   "source": [
    "array = np.where(np.logical_and(X_train_o[:,55]==X_train_k[i,55], \n",
    "                                    X_train_o[:,57]==X_train_k[i,57], \n",
    "                                    X_train_o[:,59]==X_train_k[i,59]))[0]"
   ]
  },
  {
   "cell_type": "code",
   "execution_count": 336,
   "metadata": {},
   "outputs": [],
   "source": [
    "r = []\n",
    "for i in range(len(X_test_k)):\n",
    "    array = np.where(np.logical_and(X_train_o[:,0]==X_train_k[i,0], \n",
    "                                    X_train_o[:,1]==X_train_k[i,1], \n",
    "                                    X_train_o[:,2]==X_train_k[i,2]))[0]\n",
    "    if len(array==1): r.append(array[0])"
   ]
  },
  {
   "cell_type": "code",
   "execution_count": 337,
   "metadata": {},
   "outputs": [
    {
     "data": {
      "text/plain": [
       "2181"
      ]
     },
     "execution_count": 337,
     "metadata": {},
     "output_type": "execute_result"
    }
   ],
   "source": [
    "len(r)"
   ]
  },
  {
   "cell_type": "code",
   "execution_count": 260,
   "metadata": {
    "collapsed": true
   },
   "outputs": [],
   "source": [
    "X_test_o = X_train_o[r]\n",
    "y_test_o = y_train_o[r]"
   ]
  },
  {
   "cell_type": "code",
   "execution_count": 454,
   "metadata": {},
   "outputs": [],
   "source": [
    "for i in range (64):\n",
    "    X_train_k[np.logical_and(y_train_k == 1, np.isnan(X_train_k[:,i])),i] = np.random.choice(X_train_k[y_train_k==1,i], size = len(X_train_k[np.logical_and(y_train_k == 1, np.isnan(X_train_k[:,i])),i]))\n",
    "    X_train_k[np.logical_and(y_train_k == 0, np.isnan(X_train_k[:,i])),i] = np.random.choice(X_train_k[y_train_k==0,i], size = len(X_train_k[np.logical_and(y_train_k == 0, np.isnan(X_train_k[:,i])),i]))"
   ]
  },
  {
   "cell_type": "code",
   "execution_count": 302,
   "metadata": {},
   "outputs": [
    {
     "data": {
      "text/plain": [
       "array([[  4.44800000e-02,   9.28890000e-01,   4.01520000e-01, ...,\n",
       "          1.36650000e+02,   2.67100000e+00,   4.65470000e+01],\n",
       "       [ -3.54930000e-01,   1.63800000e+00,  -5.20170000e-01, ...,\n",
       "          1.67240000e+02,   2.18250000e+00,   4.43620000e+00],\n",
       "       [  5.63900000e-02,   3.49440000e-01,   4.20730000e-01, ...,\n",
       "          3.23210000e+01,   1.12930000e+01,   1.38090000e+01],\n",
       "       ..., \n",
       "       [  2.27570000e-01,   8.50000000e-02,   7.11050000e-01, ...,\n",
       "          1.74290000e+01,   2.09420000e+01,   8.72770000e+00],\n",
       "       [  1.14180000e-01,   5.50420000e-01,   4.49580000e-01, ...,\n",
       "          8.47540000e+01,   4.30660000e+00,   5.81060000e-01],\n",
       "       [  3.47490000e-01,   5.99240000e-01,   2.94320000e-01, ...,\n",
       "          4.67070000e+01,   7.81460000e+00,   4.39940000e+01]])"
      ]
     },
     "execution_count": 302,
     "metadata": {},
     "output_type": "execute_result"
    }
   ],
   "source": [
    "X_train_k"
   ]
  },
  {
   "cell_type": "code",
   "execution_count": 303,
   "metadata": {
    "collapsed": true
   },
   "outputs": [],
   "source": [
    "from sklearn.metrics import accuracy_score\n",
    "from sklearn.feature_selection import SelectFromModel\n",
    "from sklearn.preprocessing import Imputer \n",
    "from xgboost import XGBClassifier\n",
    "\n"
   ]
  },
  {
   "cell_type": "code",
   "execution_count": 304,
   "metadata": {
    "collapsed": true
   },
   "outputs": [],
   "source": [
    "def cross_val_pimped(clf, X_train, y_train, n):\n",
    "    r = np.zeros(n)\n",
    "    for i in range(n):\n",
    "        idx_train_1 = (np.where(y_train==1))[0]\n",
    "        idx_train_0 = (np.where(y_train==0))[0]\n",
    "        \n",
    "        idx_test_1 = np.random.choice(idx_train_1, size=278, replace=False)\n",
    "        idx_test_2 = np.random.choice(idx_train_0, size=1112, replace=False)\n",
    "        \n",
    "        idx_train_train_1 = np.setdiff1d(idx_train_1,idx_test_1)\n",
    "        idx_train_train_2 = np.random.choice(np.setdiff1d(idx_train_0,idx_test_2), size=27994, replace=False)\n",
    "        \n",
    "        idx_test = np.r_[idx_test_1, idx_test_2]\n",
    "        idx_train = np.r_[idx_train_train_1, idx_train_train_2]\n",
    "        \n",
    "        X_train_train = X_train[idx_train]\n",
    "        X_train_test = X_train[idx_test]\n",
    "        y_train_train = y_train[idx_train]\n",
    "        y_train_test = y_train[idx_test]\n",
    "        \n",
    "        clf.fit(X_train_train, y_train_train)\n",
    "        y_pred = clf.predict(X_train_test)\n",
    "        r[i] = (accuracy_score(y_pred, y_train_test))\n",
    "    print(r)\n",
    "    return r"
   ]
  },
  {
   "cell_type": "code",
   "execution_count": 455,
   "metadata": {},
   "outputs": [
    {
     "data": {
      "text/plain": [
       "XGBClassifier(base_score=0.5, booster='gbtree', colsample_bylevel=1,\n",
       "       colsample_bytree=0.8125, eval_metric='auc', gamma=0.5819,\n",
       "       learning_rate=0.1027, max_delta_step=0, max_depth=5,\n",
       "       min_child_weight=1, missing=None, n_estimators=240, n_jobs=1,\n",
       "       nthread=4, objective='binary:logistic', random_state=0, reg_alpha=0,\n",
       "       reg_lambda=1, scale_pos_weight=86, seed=None, silent=True,\n",
       "       subsample=0.8511)"
      ]
     },
     "execution_count": 455,
     "metadata": {},
     "output_type": "execute_result"
    }
   ],
   "source": [
    "params1 = {'max_depth': 5, \n",
    "           'gamma': 0.5819, \n",
    "           'colsample_bytree': 0.8125, \n",
    "           'scale_pos_weight': 86, \n",
    "           'n_estimators': 240, \n",
    "           'learning_rate': 0.1027,\n",
    "           'subsample': 0.8511}\n",
    "model = XGBClassifier(nthread=4,eval_metric=\"auc\", **params1)\n",
    "model.fit(X_train_k, y_train_k)"
   ]
  },
  {
   "cell_type": "code",
   "execution_count": 464,
   "metadata": {},
   "outputs": [],
   "source": [
    "y_pred = model.predict(X_leader)"
   ]
  },
  {
   "cell_type": "code",
   "execution_count": 465,
   "metadata": {},
   "outputs": [
    {
     "data": {
      "text/plain": [
       "0.90916382594746337"
      ]
     },
     "execution_count": 465,
     "metadata": {},
     "output_type": "execute_result"
    }
   ],
   "source": [
    "accuracy_score(y_pred, y_leader)"
   ]
  },
  {
   "cell_type": "code",
   "execution_count": 381,
   "metadata": {
    "collapsed": true
   },
   "outputs": [],
   "source": [
    "X_train_o_temp = X_train_o\n",
    "X_test_k_temp = X_test_k\n",
    "X_train_o_temp[np.isnan(X_train_o_temp)] = 999\n",
    "X_test_k_temp[np.isnan(X_test_k_temp)] = 999"
   ]
  },
  {
   "cell_type": "code",
   "execution_count": 412,
   "metadata": {},
   "outputs": [],
   "source": [
    "X = np.ones(X_train_o.shape)\n",
    "l = []\n",
    "for i in range(len(X_test_k)):\n",
    "    X = X_train_o_temp[:,:] - X_test_k_temp[i,:]\n",
    "    test = np.max(np.nansum(X == 0, axis=1))\n",
    "    idx = np.argmax(np.nansum(X == 0, axis=1))\n",
    "    if (test>20): l.append(idx)"
   ]
  },
  {
   "cell_type": "code",
   "execution_count": 462,
   "metadata": {},
   "outputs": [],
   "source": [
    "import pandas as pd\n",
    "y_pred = np.array(y_pred, dtype='bool')\n",
    "StackingSubmission = pd.DataFrame(y_pred)\n",
    "random = pd.read_csv(\"random.csv\")\n",
    "StackingSubmission = pd.DataFrame({'Id': random.Id,'Prediction': y_pred})\n",
    "StackingSubmission.to_csv(\"submission.csv\", index=False)"
   ]
  },
  {
   "cell_type": "code",
   "execution_count": 441,
   "metadata": {},
   "outputs": [],
   "source": [
    "X_leader = X_train_o[l]\n",
    "y_leader = y_train_o[l] "
   ]
  },
  {
   "cell_type": "code",
   "execution_count": 467,
   "metadata": {
    "collapsed": true
   },
   "outputs": [],
   "source": [
    "X_train = np.loadtxt(\"X_train.csv\")\n",
    "y_train = np.loadtxt(\"y_train.csv\")\n",
    "X_test = np.loadtxt(\"X_test.csv\")"
   ]
  },
  {
   "cell_type": "code",
   "execution_count": 477,
   "metadata": {
    "collapsed": true
   },
   "outputs": [],
   "source": [
    "from hyperopt import STATUS_OK, Trials, fmin, hp, tpe\n",
    "\n",
    "\n",
    "def score(clf, X_leader, y_leader):\n",
    "    clf.fit(X_train, y_train)\n",
    "    y_pred = clf.predict(X_leader)\n",
    "    r = (accuracy_score(y_pred, y_leader))\n",
    "    return r"
   ]
  },
  {
   "cell_type": "code",
   "execution_count": 482,
   "metadata": {},
   "outputs": [
    {
     "name": "stdout",
     "output_type": "stream",
     "text": [
      "Score 0.8659 params {'max_depth': 6, 'colsample_bytree': '0.9268', 'scale_pos_weight': 72, 'n_estimators': 380, 'learning_rate': '0.0404'}\n",
      "Score 0.8538 params {'max_depth': 11, 'colsample_bytree': '0.7383', 'scale_pos_weight': 88, 'n_estimators': 260, 'learning_rate': '0.1154'}\n",
      "Score 0.8671 params {'max_depth': 7, 'colsample_bytree': '0.8803', 'scale_pos_weight': 89, 'n_estimators': 320, 'learning_rate': '0.0587'}\n",
      "Score 0.8566 params {'max_depth': 8, 'colsample_bytree': '0.7501', 'scale_pos_weight': 25, 'n_estimators': 260, 'learning_rate': '0.0638'}\n",
      "Score 0.8650 params {'max_depth': 7, 'colsample_bytree': '0.9382', 'scale_pos_weight': 150, 'n_estimators': 240, 'learning_rate': '0.0435'}\n",
      "Score 0.8572 params {'max_depth': 8, 'colsample_bytree': '0.8297', 'scale_pos_weight': 125, 'n_estimators': 220, 'learning_rate': '0.1318'}\n",
      "Score 0.8594 params {'max_depth': 6, 'colsample_bytree': '0.9999', 'scale_pos_weight': 169, 'n_estimators': 260, 'learning_rate': '0.0463'}\n",
      "Score 0.8528 params {'max_depth': 12, 'colsample_bytree': '0.7413', 'scale_pos_weight': 105, 'n_estimators': 320, 'learning_rate': '0.0506'}\n",
      "Score 0.8823 params {'max_depth': 4, 'colsample_bytree': '0.7544', 'scale_pos_weight': 68, 'n_estimators': 260, 'learning_rate': '0.0993'}\n",
      "Score 0.8705 params {'max_depth': 8, 'colsample_bytree': '0.7545', 'scale_pos_weight': 137, 'n_estimators': 340, 'learning_rate': '0.1142'}\n",
      "Score 0.8618 params {'max_depth': 5, 'colsample_bytree': '0.9404', 'scale_pos_weight': 63, 'n_estimators': 220, 'learning_rate': '0.1313'}\n",
      "Score 0.8584 params {'max_depth': 5, 'colsample_bytree': '0.7016', 'scale_pos_weight': 92, 'n_estimators': 360, 'learning_rate': '0.1470'}\n",
      "Score 0.8584 params {'max_depth': 7, 'colsample_bytree': '0.9534', 'scale_pos_weight': 25, 'n_estimators': 300, 'learning_rate': '0.0591'}\n",
      "Score 0.8574 params {'max_depth': 12, 'colsample_bytree': '0.9142', 'scale_pos_weight': 163, 'n_estimators': 300, 'learning_rate': '0.0733'}\n",
      "Score 0.8903 params {'max_depth': 6, 'colsample_bytree': '0.8453', 'scale_pos_weight': 121, 'n_estimators': 400, 'learning_rate': '0.0896'}\n",
      "Score 0.8600 params {'max_depth': 9, 'colsample_bytree': '0.8013', 'scale_pos_weight': 141, 'n_estimators': 220, 'learning_rate': '0.1380'}\n",
      "Score 0.8560 params {'max_depth': 11, 'colsample_bytree': '0.7159', 'scale_pos_weight': 187, 'n_estimators': 280, 'learning_rate': '0.0714'}\n",
      "Score 0.8560 params {'max_depth': 11, 'colsample_bytree': '0.9430', 'scale_pos_weight': 120, 'n_estimators': 380, 'learning_rate': '0.1193'}\n",
      "Score 0.8600 params {'max_depth': 8, 'colsample_bytree': '0.8181', 'scale_pos_weight': 191, 'n_estimators': 300, 'learning_rate': '0.1167'}\n",
      "Score 0.8713 params {'max_depth': 6, 'colsample_bytree': '0.9381', 'scale_pos_weight': 125, 'n_estimators': 380, 'learning_rate': '0.0643'}\n",
      "Score 0.8711 params {'max_depth': 3, 'colsample_bytree': '0.7852', 'scale_pos_weight': 64, 'n_estimators': 200, 'learning_rate': '0.0925'}\n",
      "Score 0.8851 params {'max_depth': 3, 'colsample_bytree': '0.8671', 'scale_pos_weight': 46, 'n_estimators': 280, 'learning_rate': '0.0918'}\n",
      "Score 0.8929 params {'max_depth': 3, 'colsample_bytree': '0.8797', 'scale_pos_weight': 44, 'n_estimators': 340, 'learning_rate': '0.0855'}\n",
      "Score 0.8787 params {'max_depth': 4, 'colsample_bytree': '0.8909', 'scale_pos_weight': 43, 'n_estimators': 400, 'learning_rate': '0.0828'}\n",
      "Score 0.8638 params {'max_depth': 4, 'colsample_bytree': '0.8443', 'scale_pos_weight': 12, 'n_estimators': 340, 'learning_rate': '0.1023'}\n",
      "Score 0.8598 params {'max_depth': 9, 'colsample_bytree': '0.8976', 'scale_pos_weight': 109, 'n_estimators': 400, 'learning_rate': '0.0818'}\n",
      "Score 0.8594 params {'max_depth': 5, 'colsample_bytree': '0.9851', 'scale_pos_weight': 49, 'n_estimators': 360, 'learning_rate': '0.1068'}\n",
      "Score 0.8544 params {'max_depth': 3, 'colsample_bytree': '0.8569', 'scale_pos_weight': 170, 'n_estimators': 360, 'learning_rate': '0.0840'}\n",
      "Score 0.8897 params {'max_depth': 6, 'colsample_bytree': '0.7930', 'scale_pos_weight': 76, 'n_estimators': 340, 'learning_rate': '0.0753'}\n",
      "Score 0.8697 params {'max_depth': 4, 'colsample_bytree': '0.9056', 'scale_pos_weight': 21, 'n_estimators': 400, 'learning_rate': '0.0886'}\n",
      "Score 0.8602 params {'max_depth': 10, 'colsample_bytree': '0.8424', 'scale_pos_weight': 80, 'n_estimators': 380, 'learning_rate': '0.1083'}\n",
      "Score 0.8659 params {'max_depth': 5, 'colsample_bytree': '0.9696', 'scale_pos_weight': 92, 'n_estimators': 320, 'learning_rate': '0.0981'}\n",
      "Score 0.8903 params {'max_depth': 6, 'colsample_bytree': '0.8694', 'scale_pos_weight': 112, 'n_estimators': 360, 'learning_rate': '0.1255'}\n",
      "Score 0.8552 params {'max_depth': 9, 'colsample_bytree': '0.8765', 'scale_pos_weight': 36, 'n_estimators': 360, 'learning_rate': '0.1262'}\n",
      "Score 0.8642 params {'max_depth': 7, 'colsample_bytree': '0.7730', 'scale_pos_weight': 97, 'n_estimators': 340, 'learning_rate': '0.1492'}\n",
      "Score 0.8777 params {'max_depth': 3, 'colsample_bytree': '0.9129', 'scale_pos_weight': 53, 'n_estimators': 320, 'learning_rate': '0.1405'}\n",
      "Score 0.8596 params {'max_depth': 10, 'colsample_bytree': '0.8161', 'scale_pos_weight': 152, 'n_estimators': 380, 'learning_rate': '0.1233'}\n",
      "Score 0.8530 params {'max_depth': 6, 'colsample_bytree': '0.8772', 'scale_pos_weight': 10, 'n_estimators': 280, 'learning_rate': '0.1103'}\n",
      "Score 0.8669 params {'max_depth': 7, 'colsample_bytree': '0.9233', 'scale_pos_weight': 106, 'n_estimators': 320, 'learning_rate': '0.0505'}\n",
      "Score 0.8891 params {'max_depth': 4, 'colsample_bytree': '0.8246', 'scale_pos_weight': 82, 'n_estimators': 340, 'learning_rate': '0.1036'}\n",
      "Score 0.8622 params {'max_depth': 5, 'colsample_bytree': '0.9670', 'scale_pos_weight': 136, 'n_estimators': 360, 'learning_rate': '0.1351'}\n",
      "Score 0.8867 params {'max_depth': 8, 'colsample_bytree': '0.8901', 'scale_pos_weight': 58, 'n_estimators': 380, 'learning_rate': '0.1433'}\n",
      "Score 0.7979 params {'max_depth': 3, 'colsample_bytree': '0.8597', 'scale_pos_weight': 113, 'n_estimators': 340, 'learning_rate': '0.0405'}\n",
      "Score 0.8921 params {'max_depth': 7, 'colsample_bytree': '0.7676', 'scale_pos_weight': 182, 'n_estimators': 400, 'learning_rate': '0.0646'}\n",
      "Score 0.8556 params {'max_depth': 10, 'colsample_bytree': '0.7211', 'scale_pos_weight': 185, 'n_estimators': 240, 'learning_rate': '0.0647'}\n",
      "Score 0.8612 params {'max_depth': 9, 'colsample_bytree': '0.7623', 'scale_pos_weight': 177, 'n_estimators': 320, 'learning_rate': '0.0556'}\n",
      "Score 0.8520 params {'max_depth': 11, 'colsample_bytree': '0.8011', 'scale_pos_weight': 32, 'n_estimators': 400, 'learning_rate': '0.0770'}\n",
      "Score 0.8546 params {'max_depth': 12, 'colsample_bytree': '0.7336', 'scale_pos_weight': 154, 'n_estimators': 240, 'learning_rate': '0.0471'}\n",
      "Score 0.8630 params {'max_depth': 8, 'colsample_bytree': '0.7002', 'scale_pos_weight': 199, 'n_estimators': 300, 'learning_rate': '0.0687'}\n",
      "Score 0.8737 params {'max_depth': 7, 'colsample_bytree': '0.7414', 'scale_pos_weight': 71, 'n_estimators': 260, 'learning_rate': '0.0574'}\n",
      "Score 0.8745 params {'max_depth': 4, 'colsample_bytree': '0.7842', 'scale_pos_weight': 141, 'n_estimators': 400, 'learning_rate': '0.0683'}\n",
      "Score 0.8655 params {'max_depth': 5, 'colsample_bytree': '0.8293', 'scale_pos_weight': 197, 'n_estimators': 280, 'learning_rate': '0.0598'}\n",
      "Score 0.8600 params {'max_depth': 9, 'colsample_bytree': '0.7702', 'scale_pos_weight': 100, 'n_estimators': 380, 'learning_rate': '0.0787'}\n",
      "Score 0.8871 params {'max_depth': 7, 'colsample_bytree': '0.8118', 'scale_pos_weight': 163, 'n_estimators': 300, 'learning_rate': '0.0961'}\n",
      "Score 0.8498 params {'max_depth': 10, 'colsample_bytree': '0.7182', 'scale_pos_weight': 18, 'n_estimators': 380, 'learning_rate': '0.0866'}\n",
      "Score 0.8530 params {'max_depth': 6, 'colsample_bytree': '0.9272', 'scale_pos_weight': 129, 'n_estimators': 200, 'learning_rate': '0.0496'}\n",
      "Score 0.8506 params {'max_depth': 11, 'colsample_bytree': '0.8392', 'scale_pos_weight': 38, 'n_estimators': 260, 'learning_rate': '0.0404'}\n",
      "Score 0.8819 params {'max_depth': 5, 'colsample_bytree': '0.8037', 'scale_pos_weight': 84, 'n_estimators': 360, 'learning_rate': '0.0789'}\n",
      "Score 0.8504 params {'max_depth': 12, 'colsample_bytree': '0.7477', 'scale_pos_weight': 28, 'n_estimators': 320, 'learning_rate': '0.0547'}\n"
     ]
    },
    {
     "name": "stdout",
     "output_type": "stream",
     "text": [
      "Score 0.8707 params {'max_depth': 4, 'colsample_bytree': '0.9901', 'scale_pos_weight': 65, 'n_estimators': 280, 'learning_rate': '0.0619'}\n",
      "Score 0.8640 params {'max_depth': 8, 'colsample_bytree': '0.7285', 'scale_pos_weight': 179, 'n_estimators': 400, 'learning_rate': '0.0713'}\n",
      "Score 0.8667 params {'max_depth': 3, 'colsample_bytree': '0.7087', 'scale_pos_weight': 16, 'n_estimators': 340, 'learning_rate': '0.0929'}\n",
      "Score 0.8749 params {'max_depth': 6, 'colsample_bytree': '0.8350', 'scale_pos_weight': 161, 'n_estimators': 220, 'learning_rate': '0.1142'}\n",
      "Score 0.8580 params {'max_depth': 9, 'colsample_bytree': '0.9591', 'scale_pos_weight': 145, 'n_estimators': 380, 'learning_rate': '0.1032'}\n",
      "Score 0.8648 params {'max_depth': 5, 'colsample_bytree': '0.8490', 'scale_pos_weight': 56, 'n_estimators': 360, 'learning_rate': '0.0657'}\n",
      "Score 0.8729 params {'max_depth': 7, 'colsample_bytree': '0.8871', 'scale_pos_weight': 116, 'n_estimators': 360, 'learning_rate': '0.1308'}\n",
      "Score 0.8646 params {'max_depth': 8, 'colsample_bytree': '0.8629', 'scale_pos_weight': 126, 'n_estimators': 340, 'learning_rate': '0.1228'}\n",
      "Score 0.8867 params {'max_depth': 6, 'colsample_bytree': '0.7873', 'scale_pos_weight': 132, 'n_estimators': 400, 'learning_rate': '0.0891'}\n",
      "Score 0.8638 params {'max_depth': 7, 'colsample_bytree': '0.9015', 'scale_pos_weight': 93, 'n_estimators': 360, 'learning_rate': '0.1109'}\n",
      "Score 0.8911 params {'max_depth': 6, 'colsample_bytree': '0.8670', 'scale_pos_weight': 171, 'n_estimators': 340, 'learning_rate': '0.1185'}\n",
      "Score 0.8901 params {'max_depth': 8, 'colsample_bytree': '0.9287', 'scale_pos_weight': 192, 'n_estimators': 300, 'learning_rate': '0.1009'}\n",
      "Score 0.8935 params {'max_depth': 7, 'colsample_bytree': '0.8513', 'scale_pos_weight': 171, 'n_estimators': 340, 'learning_rate': '0.1170'}\n",
      "Score 0.8723 params {'max_depth': 8, 'colsample_bytree': '0.8830', 'scale_pos_weight': 181, 'n_estimators': 320, 'learning_rate': '0.0735'}\n",
      "Score 0.8911 params {'max_depth': 7, 'colsample_bytree': '0.8536', 'scale_pos_weight': 160, 'n_estimators': 320, 'learning_rate': '0.1064'}\n",
      "Score 0.8719 params {'max_depth': 4, 'colsample_bytree': '0.9087', 'scale_pos_weight': 147, 'n_estimators': 300, 'learning_rate': '0.0858'}\n",
      "Score 0.8582 params {'max_depth': 9, 'colsample_bytree': '0.8959', 'scale_pos_weight': 173, 'n_estimators': 340, 'learning_rate': '0.0954'}\n",
      "Score 0.8953 params {'max_depth': 6, 'colsample_bytree': '0.8240', 'scale_pos_weight': 194, 'n_estimators': 280, 'learning_rate': '0.0813'}\n",
      "Score 0.8701 params {'max_depth': 5, 'colsample_bytree': '0.9180', 'scale_pos_weight': 190, 'n_estimators': 280, 'learning_rate': '0.0815'}\n",
      "Score 0.8530 params {'max_depth': 3, 'colsample_bytree': '0.8744', 'scale_pos_weight': 156, 'n_estimators': 260, 'learning_rate': '0.0982'}\n",
      "Score 0.8825 params {'max_depth': 5, 'colsample_bytree': '0.8243', 'scale_pos_weight': 200, 'n_estimators': 240, 'learning_rate': '0.0918'}\n",
      "Score 0.8863 params {'max_depth': 6, 'colsample_bytree': '0.8092', 'scale_pos_weight': 166, 'n_estimators': 300, 'learning_rate': '0.1222'}\n",
      "Score 0.8697 params {'max_depth': 4, 'colsample_bytree': '0.8505', 'scale_pos_weight': 196, 'n_estimators': 280, 'learning_rate': '0.1116'}\n",
      "Score 0.8997 params {'max_depth': 7, 'colsample_bytree': '0.7778', 'scale_pos_weight': 76, 'n_estimators': 320, 'learning_rate': '0.1322'}\n",
      "Score 0.8881 params {'max_depth': 7, 'colsample_bytree': '0.7789', 'scale_pos_weight': 73, 'n_estimators': 240, 'learning_rate': '0.1333'}\n",
      "Score 0.8642 params {'max_depth': 6, 'colsample_bytree': '0.7926', 'scale_pos_weight': 88, 'n_estimators': 320, 'learning_rate': '0.1461'}\n",
      "Score 0.8665 params {'max_depth': 8, 'colsample_bytree': '0.7969', 'scale_pos_weight': 101, 'n_estimators': 280, 'learning_rate': '0.1390'}\n",
      "Score 0.8873 params {'max_depth': 7, 'colsample_bytree': '0.7510', 'scale_pos_weight': 175, 'n_estimators': 260, 'learning_rate': '0.1258'}\n",
      "Score 0.8761 params {'max_depth': 6, 'colsample_bytree': '0.8268', 'scale_pos_weight': 119, 'n_estimators': 300, 'learning_rate': '0.1287'}\n",
      "Score 0.8689 params {'max_depth': 8, 'colsample_bytree': '0.7754', 'scale_pos_weight': 60, 'n_estimators': 320, 'learning_rate': '0.1167'}\n",
      "Score 0.8562 params {'max_depth': 9, 'colsample_bytree': '0.8179', 'scale_pos_weight': 78, 'n_estimators': 280, 'learning_rate': '0.1489'}\n",
      "Score 0.8889 params {'max_depth': 7, 'colsample_bytree': '0.7623', 'scale_pos_weight': 187, 'n_estimators': 300, 'learning_rate': '0.1408'}\n",
      "Score 0.8620 params {'max_depth': 6, 'colsample_bytree': '0.8367', 'scale_pos_weight': 69, 'n_estimators': 260, 'learning_rate': '0.1344'}\n",
      "Score 0.8548 params {'max_depth': 10, 'colsample_bytree': '0.7593', 'scale_pos_weight': 51, 'n_estimators': 340, 'learning_rate': '0.1057'}\n",
      "Score 0.8636 params {'max_depth': 5, 'colsample_bytree': '0.8082', 'scale_pos_weight': 107, 'n_estimators': 320, 'learning_rate': '0.1367'}\n",
      "Score 0.8628 params {'max_depth': 8, 'colsample_bytree': '0.7390', 'scale_pos_weight': 96, 'n_estimators': 280, 'learning_rate': '0.1200'}\n",
      "Score 0.8773 params {'max_depth': 6, 'colsample_bytree': '0.7803', 'scale_pos_weight': 167, 'n_estimators': 220, 'learning_rate': '0.1285'}\n",
      "Score 0.8667 params {'max_depth': 7, 'colsample_bytree': '0.7901', 'scale_pos_weight': 138, 'n_estimators': 340, 'learning_rate': '0.1147'}\n",
      "Score 0.8745 params {'max_depth': 5, 'colsample_bytree': '0.8345', 'scale_pos_weight': 45, 'n_estimators': 300, 'learning_rate': '0.1003'}\n",
      "Score 0.8620 params {'max_depth': 7, 'colsample_bytree': '0.7260', 'scale_pos_weight': 84, 'n_estimators': 320, 'learning_rate': '0.1078'}\n",
      "Score 0.8606 params {'max_depth': 9, 'colsample_bytree': '0.7092', 'scale_pos_weight': 157, 'n_estimators': 260, 'learning_rate': '0.1457'}\n",
      "Score 0.8833 params {'max_depth': 5, 'colsample_bytree': '0.8570', 'scale_pos_weight': 146, 'n_estimators': 280, 'learning_rate': '0.1123'}\n",
      "Score 0.8580 params {'max_depth': 10, 'colsample_bytree': '0.8196', 'scale_pos_weight': 123, 'n_estimators': 340, 'learning_rate': '0.1433'}\n",
      "Score 0.8564 params {'max_depth': 8, 'colsample_bytree': '0.7993', 'scale_pos_weight': 40, 'n_estimators': 360, 'learning_rate': '0.1318'}\n",
      "Score 0.8715 params {'max_depth': 6, 'colsample_bytree': '0.7447', 'scale_pos_weight': 134, 'n_estimators': 240, 'learning_rate': '0.1206'}\n",
      "Score 0.8636 params {'max_depth': 7, 'colsample_bytree': '0.8461', 'scale_pos_weight': 111, 'n_estimators': 300, 'learning_rate': '0.1042'}\n",
      "Score 0.8592 params {'max_depth': 9, 'colsample_bytree': '0.9420', 'scale_pos_weight': 150, 'n_estimators': 320, 'learning_rate': '0.1282'}\n",
      "Score 0.8596 params {'max_depth': 8, 'colsample_bytree': '0.7669', 'scale_pos_weight': 103, 'n_estimators': 320, 'learning_rate': '0.1097'}\n",
      "Score 0.8578 params {'max_depth': 7, 'colsample_bytree': '0.8716', 'scale_pos_weight': 32, 'n_estimators': 360, 'learning_rate': '0.1247'}\n",
      "Score 0.8719 params {'max_depth': 6, 'colsample_bytree': '0.8641', 'scale_pos_weight': 62, 'n_estimators': 200, 'learning_rate': '0.0941'}\n",
      "Score 0.8508 params {'max_depth': 4, 'colsample_bytree': '0.8136', 'scale_pos_weight': 194, 'n_estimators': 220, 'learning_rate': '0.0967'}\n",
      "Score 0.8604 params {'max_depth': 6, 'colsample_bytree': '0.8063', 'scale_pos_weight': 66, 'n_estimators': 260, 'learning_rate': '0.1174'}\n",
      "Score 0.8883 params {'max_depth': 5, 'colsample_bytree': '0.7322', 'scale_pos_weight': 182, 'n_estimators': 380, 'learning_rate': '0.0797'}\n",
      "Score 0.8669 params {'max_depth': 8, 'colsample_bytree': '0.7574', 'scale_pos_weight': 128, 'n_estimators': 300, 'learning_rate': '0.0871'}\n",
      "Score 0.8588 params {'max_depth': 9, 'colsample_bytree': '0.8236', 'scale_pos_weight': 75, 'n_estimators': 280, 'learning_rate': '0.1433'}\n",
      "Score 0.8915 params {'max_depth': 7, 'colsample_bytree': '0.8795', 'scale_pos_weight': 92, 'n_estimators': 360, 'learning_rate': '0.0838'}\n",
      "Score 0.8632 params {'max_depth': 4, 'colsample_bytree': '0.8406', 'scale_pos_weight': 186, 'n_estimators': 300, 'learning_rate': '0.0744'}\n",
      "Score 0.8636 params {'max_depth': 6, 'colsample_bytree': '0.8977', 'scale_pos_weight': 143, 'n_estimators': 340, 'learning_rate': '0.0913'}\n",
      "Score 0.8759 params {'max_depth': 5, 'colsample_bytree': '0.8872', 'scale_pos_weight': 54, 'n_estimators': 240, 'learning_rate': '0.0769'}\n"
     ]
    },
    {
     "name": "stdout",
     "output_type": "stream",
     "text": [
      "Score 0.8743 params {'max_depth': 7, 'colsample_bytree': '0.7960', 'scale_pos_weight': 115, 'n_estimators': 320, 'learning_rate': '0.0714'}\n",
      "Score 0.8691 params {'max_depth': 8, 'colsample_bytree': '0.8310', 'scale_pos_weight': 199, 'n_estimators': 320, 'learning_rate': '0.0530'}\n",
      "Score 0.8743 params {'max_depth': 6, 'colsample_bytree': '0.9530', 'scale_pos_weight': 164, 'n_estimators': 340, 'learning_rate': '0.1385'}\n",
      "Score 0.8580 params {'max_depth': 11, 'colsample_bytree': '0.7742', 'scale_pos_weight': 190, 'n_estimators': 280, 'learning_rate': '0.1498'}\n",
      "Score 0.8564 params {'max_depth': 9, 'colsample_bytree': '0.8435', 'scale_pos_weight': 49, 'n_estimators': 380, 'learning_rate': '0.0680'}\n",
      "Score 0.8570 params {'max_depth': 10, 'colsample_bytree': '0.9328', 'scale_pos_weight': 177, 'n_estimators': 300, 'learning_rate': '0.0622'}\n",
      "Score 0.8560 params {'max_depth': 7, 'colsample_bytree': '0.7862', 'scale_pos_weight': 22, 'n_estimators': 380, 'learning_rate': '0.1362'}\n",
      "Score 0.8588 params {'max_depth': 5, 'colsample_bytree': '0.9207', 'scale_pos_weight': 88, 'n_estimators': 340, 'learning_rate': '0.1023'}\n",
      "Score 0.8594 params {'max_depth': 8, 'colsample_bytree': '0.7519', 'scale_pos_weight': 97, 'n_estimators': 260, 'learning_rate': '0.1317'}\n",
      "Score 0.8669 params {'max_depth': 6, 'colsample_bytree': '0.9819', 'scale_pos_weight': 169, 'n_estimators': 360, 'learning_rate': '0.0468'}\n",
      "Score 0.8701 params {'max_depth': 4, 'colsample_bytree': '0.9086', 'scale_pos_weight': 138, 'n_estimators': 320, 'learning_rate': '0.0991'}\n",
      "Score 0.8743 params {'max_depth': 7, 'colsample_bytree': '0.7081', 'scale_pos_weight': 85, 'n_estimators': 280, 'learning_rate': '0.1220'}\n",
      "Score 0.8580 params {'max_depth': 11, 'colsample_bytree': '0.8545', 'scale_pos_weight': 120, 'n_estimators': 300, 'learning_rate': '0.1141'}\n",
      "Score 0.8679 params {'max_depth': 6, 'colsample_bytree': '0.7799', 'scale_pos_weight': 80, 'n_estimators': 240, 'learning_rate': '0.0903'}\n",
      "Score 0.8729 params {'max_depth': 3, 'colsample_bytree': '0.7670', 'scale_pos_weight': 150, 'n_estimators': 320, 'learning_rate': '0.1411'}\n",
      "Score 0.8630 params {'max_depth': 8, 'colsample_bytree': '0.8040', 'scale_pos_weight': 70, 'n_estimators': 340, 'learning_rate': '0.0429'}\n",
      "Score 0.8843 params {'max_depth': 5, 'colsample_bytree': '0.8202', 'scale_pos_weight': 158, 'n_estimators': 260, 'learning_rate': '0.1055'}\n",
      "Score 0.8673 params {'max_depth': 7, 'colsample_bytree': '0.8120', 'scale_pos_weight': 130, 'n_estimators': 200, 'learning_rate': '0.1087'}\n",
      "Score 0.8604 params {'max_depth': 5, 'colsample_bytree': '0.8314', 'scale_pos_weight': 11, 'n_estimators': 280, 'learning_rate': '0.0811'}\n",
      "Score 0.8592 params {'max_depth': 9, 'colsample_bytree': '0.8613', 'scale_pos_weight': 172, 'n_estimators': 360, 'learning_rate': '0.1131'}\n",
      "Score 0.8853 params {'max_depth': 8, 'colsample_bytree': '0.8926', 'scale_pos_weight': 154, 'n_estimators': 300, 'learning_rate': '0.1270'}\n",
      "Score 0.8957 params {'max_depth': 6, 'colsample_bytree': '0.7235', 'scale_pos_weight': 28, 'n_estimators': 360, 'learning_rate': '0.1163'}\n",
      "Score 0.8544 params {'max_depth': 5, 'colsample_bytree': '0.7218', 'scale_pos_weight': 16, 'n_estimators': 400, 'learning_rate': '0.1244'}\n",
      "Score 0.8799 params {'max_depth': 4, 'colsample_bytree': '0.7035', 'scale_pos_weight': 29, 'n_estimators': 380, 'learning_rate': '0.0874'}\n",
      "Score 0.8592 params {'max_depth': 4, 'colsample_bytree': '0.7432', 'scale_pos_weight': 41, 'n_estimators': 380, 'learning_rate': '0.1471'}\n",
      "Score 0.8839 params {'max_depth': 6, 'colsample_bytree': '0.7137', 'scale_pos_weight': 35, 'n_estimators': 400, 'learning_rate': '0.1193'}\n",
      "Score 0.8897 params {'max_depth': 3, 'colsample_bytree': '0.7378', 'scale_pos_weight': 23, 'n_estimators': 360, 'learning_rate': '0.1303'}\n",
      "Score 0.8612 params {'max_depth': 7, 'colsample_bytree': '0.7903', 'scale_pos_weight': 57, 'n_estimators': 340, 'learning_rate': '0.1155'}\n",
      "Score 0.8869 params {'max_depth': 6, 'colsample_bytree': '0.7327', 'scale_pos_weight': 108, 'n_estimators': 320, 'learning_rate': '0.1341'}\n",
      "Score 0.8568 params {'max_depth': 6, 'colsample_bytree': '0.7236', 'scale_pos_weight': 26, 'n_estimators': 340, 'learning_rate': '0.0943'}\n",
      "Score 0.8512 params {'max_depth': 7, 'colsample_bytree': '0.7561', 'scale_pos_weight': 14, 'n_estimators': 360, 'learning_rate': '0.1021'}\n",
      "Score 0.8885 params {'max_depth': 7, 'colsample_bytree': '0.7008', 'scale_pos_weight': 32, 'n_estimators': 360, 'learning_rate': '0.1181'}\n",
      "Score 0.8839 params {'max_depth': 6, 'colsample_bytree': '0.8690', 'scale_pos_weight': 181, 'n_estimators': 340, 'learning_rate': '0.1226'}\n",
      "Score 0.8843 params {'max_depth': 7, 'colsample_bytree': '0.8507', 'scale_pos_weight': 48, 'n_estimators': 320, 'learning_rate': '0.0849'}\n",
      "Score 0.8620 params {'max_depth': 8, 'colsample_bytree': '0.7488', 'scale_pos_weight': 64, 'n_estimators': 360, 'learning_rate': '0.0976'}\n",
      "Score 0.8560 params {'max_depth': 5, 'colsample_bytree': '0.7625', 'scale_pos_weight': 19, 'n_estimators': 340, 'learning_rate': '0.1095'}\n",
      "Score 0.8761 params {'max_depth': 6, 'colsample_bytree': '0.7817', 'scale_pos_weight': 196, 'n_estimators': 380, 'learning_rate': '0.1119'}\n",
      "Score 0.8604 params {'max_depth': 5, 'colsample_bytree': '0.7984', 'scale_pos_weight': 52, 'n_estimators': 320, 'learning_rate': '0.1211'}\n",
      "Score 0.8634 params {'max_depth': 7, 'colsample_bytree': '0.7714', 'scale_pos_weight': 75, 'n_estimators': 300, 'learning_rate': '0.1365'}\n",
      "Score 0.8931 params {'max_depth': 6, 'colsample_bytree': '0.8396', 'scale_pos_weight': 104, 'n_estimators': 340, 'learning_rate': '0.1290'}\n",
      "Score 0.8544 params {'max_depth': 8, 'colsample_bytree': '0.7165', 'scale_pos_weight': 38, 'n_estimators': 280, 'learning_rate': '0.1166'}\n",
      "Score 0.8797 params {'max_depth': 5, 'colsample_bytree': '0.8043', 'scale_pos_weight': 61, 'n_estimators': 300, 'learning_rate': '0.0764'}\n",
      "Score 0.8727 params {'max_depth': 6, 'colsample_bytree': '0.8235', 'scale_pos_weight': 43, 'n_estimators': 320, 'learning_rate': '0.1263'}\n",
      "Score 0.8663 params {'max_depth': 7, 'colsample_bytree': '0.8825', 'scale_pos_weight': 116, 'n_estimators': 360, 'learning_rate': '0.1406'}\n",
      "Score 0.8703 params {'max_depth': 7, 'colsample_bytree': '0.7758', 'scale_pos_weight': 125, 'n_estimators': 260, 'learning_rate': '0.1060'}\n",
      "Score 0.8851 params {'max_depth': 8, 'colsample_bytree': '0.8136', 'scale_pos_weight': 98, 'n_estimators': 400, 'learning_rate': '0.0999'}\n",
      "Score 0.8859 params {'max_depth': 6, 'colsample_bytree': '0.9013', 'scale_pos_weight': 189, 'n_estimators': 380, 'learning_rate': '0.1329'}\n",
      "Score 0.8667 params {'max_depth': 5, 'colsample_bytree': '0.8741', 'scale_pos_weight': 200, 'n_estimators': 320, 'learning_rate': '0.1451'}\n",
      "Score 0.8602 params {'max_depth': 9, 'colsample_bytree': '0.7937', 'scale_pos_weight': 185, 'n_estimators': 340, 'learning_rate': '0.0931'}\n",
      "Score 0.8650 params {'max_depth': 8, 'colsample_bytree': '0.8467', 'scale_pos_weight': 141, 'n_estimators': 280, 'learning_rate': '0.0672'}\n",
      "Score 0.8831 params {'max_depth': 6, 'colsample_bytree': '0.8284', 'scale_pos_weight': 164, 'n_estimators': 300, 'learning_rate': '0.1079'}\n",
      "Score 0.8937 params {'max_depth': 7, 'colsample_bytree': '0.8340', 'scale_pos_weight': 175, 'n_estimators': 360, 'learning_rate': '0.0889'}\n",
      "Score 0.8979 params {'max_depth': 7, 'colsample_bytree': '0.7895', 'scale_pos_weight': 175, 'n_estimators': 400, 'learning_rate': '0.0830'}\n",
      "Score 0.8935 params {'max_depth': 6, 'colsample_bytree': '0.7853', 'scale_pos_weight': 85, 'n_estimators': 400, 'learning_rate': '0.0727'}\n",
      "Score 0.8755 params {'max_depth': 5, 'colsample_bytree': '0.7377', 'scale_pos_weight': 67, 'n_estimators': 400, 'learning_rate': '0.0585'}\n",
      "Score 0.8735 params {'max_depth': 7, 'colsample_bytree': '0.7274', 'scale_pos_weight': 90, 'n_estimators': 380, 'learning_rate': '0.0834'}\n",
      "Score 0.8891 params {'max_depth': 4, 'colsample_bytree': '0.7661', 'scale_pos_weight': 80, 'n_estimators': 400, 'learning_rate': '0.0776'}\n",
      "Score 0.8650 params {'max_depth': 8, 'colsample_bytree': '0.7529', 'scale_pos_weight': 160, 'n_estimators': 380, 'learning_rate': '0.0706'}\n",
      "Score 0.8783 params {'max_depth': 6, 'colsample_bytree': '0.7465', 'scale_pos_weight': 94, 'n_estimators': 400, 'learning_rate': '0.0565'}\n"
     ]
    },
    {
     "name": "stdout",
     "output_type": "stream",
     "text": [
      "Score 0.8725 params {'max_depth': 5, 'colsample_bytree': '0.7618', 'scale_pos_weight': 193, 'n_estimators': 260, 'learning_rate': '0.0750'}\n",
      "Score 0.8564 params {'max_depth': 9, 'colsample_bytree': '0.7115', 'scale_pos_weight': 56, 'n_estimators': 240, 'learning_rate': '0.0812'}\n",
      "Score 0.8729 params {'max_depth': 7, 'colsample_bytree': '0.7734', 'scale_pos_weight': 134, 'n_estimators': 220, 'learning_rate': '0.0797'}\n",
      "Score 0.8476 params {'max_depth': 10, 'colsample_bytree': '0.7994', 'scale_pos_weight': 10, 'n_estimators': 380, 'learning_rate': '0.0611'}\n",
      "Score 0.8807 params {'max_depth': 7, 'colsample_bytree': '0.7865', 'scale_pos_weight': 72, 'n_estimators': 380, 'learning_rate': '0.0649'}\n",
      "Score 0.8745 params {'max_depth': 6, 'colsample_bytree': '0.8084', 'scale_pos_weight': 111, 'n_estimators': 260, 'learning_rate': '0.0520'}\n",
      "Score 0.8963 params {'max_depth': 4, 'colsample_bytree': '0.7339', 'scale_pos_weight': 179, 'n_estimators': 400, 'learning_rate': '0.0958'}\n",
      "Score 0.8630 params {'max_depth': 3, 'colsample_bytree': '0.7012', 'scale_pos_weight': 146, 'n_estimators': 400, 'learning_rate': '0.1041'}\n",
      "Score 0.8661 params {'max_depth': 3, 'colsample_bytree': '0.7304', 'scale_pos_weight': 153, 'n_estimators': 400, 'learning_rate': '0.0969'}\n",
      "Score 0.8703 params {'max_depth': 4, 'colsample_bytree': '0.7059', 'scale_pos_weight': 119, 'n_estimators': 400, 'learning_rate': '0.0954'}\n",
      "Score 0.8669 params {'max_depth': 3, 'colsample_bytree': '0.7170', 'scale_pos_weight': 150, 'n_estimators': 380, 'learning_rate': '0.0917'}\n",
      "Score 0.8548 params {'max_depth': 4, 'colsample_bytree': '0.7565', 'scale_pos_weight': 45, 'n_estimators': 400, 'learning_rate': '0.1014'}\n",
      "Score 0.8687 params {'max_depth': 3, 'colsample_bytree': '0.7219', 'scale_pos_weight': 35, 'n_estimators': 380, 'learning_rate': '0.0867'}\n",
      "Score 0.8859 params {'max_depth': 4, 'colsample_bytree': '0.7441', 'scale_pos_weight': 169, 'n_estimators': 400, 'learning_rate': '0.1103'}\n",
      "Score 0.8640 params {'max_depth': 8, 'colsample_bytree': '0.7380', 'scale_pos_weight': 138, 'n_estimators': 360, 'learning_rate': '0.0890'}\n",
      "Score 0.8622 params {'max_depth': 4, 'colsample_bytree': '0.7499', 'scale_pos_weight': 177, 'n_estimators': 360, 'learning_rate': '0.1243'}\n",
      "Score 0.8622 params {'max_depth': 3, 'colsample_bytree': '0.7313', 'scale_pos_weight': 180, 'n_estimators': 380, 'learning_rate': '0.1196'}\n",
      "Score 0.8584 params {'max_depth': 9, 'colsample_bytree': '0.7670', 'scale_pos_weight': 101, 'n_estimators': 400, 'learning_rate': '0.1141'}\n",
      "Score 0.8767 params {'max_depth': 5, 'colsample_bytree': '0.7793', 'scale_pos_weight': 130, 'n_estimators': 380, 'learning_rate': '0.0989'}\n",
      "Score 0.8572 params {'max_depth': 10, 'colsample_bytree': '0.7406', 'scale_pos_weight': 77, 'n_estimators': 360, 'learning_rate': '0.1377'}\n",
      "Score 0.8554 params {'max_depth': 8, 'colsample_bytree': '0.7256', 'scale_pos_weight': 21, 'n_estimators': 380, 'learning_rate': '0.1045'}\n",
      "Score 0.8897 params {'max_depth': 5, 'colsample_bytree': '0.7161', 'scale_pos_weight': 184, 'n_estimators': 400, 'learning_rate': '0.0698'}\n",
      "Score 0.8773 params {'max_depth': 4, 'colsample_bytree': '0.7594', 'scale_pos_weight': 162, 'n_estimators': 400, 'learning_rate': '0.1304'}\n"
     ]
    }
   ],
   "source": [
    "def objective(params):\n",
    "    params = {\n",
    "        'max_depth': int(params['max_depth']),\n",
    "        'colsample_bytree': '{:.4f}'.format(params['colsample_bytree']),\n",
    "        'scale_pos_weight': int(params['scale_pos_weight']),\n",
    "        'n_estimators': int(params['n_estimators']),\n",
    "        'learning_rate': '{:.4f}'.format(params['learning_rate'])\n",
    "    }    \n",
    "    clf = XGBClassifier(n_jobs=4, eval_metric=\"auc\", **params)\n",
    "    sc = score(clf, X_leader, y_leader)\n",
    "    print(\"Score {:.4f} params {}\".format(sc, params))\n",
    "    return -sc\n",
    "\n",
    "space = {\n",
    "    'max_depth': hp.quniform('max_depth', 3, 12, 1),\n",
    "    'colsample_bytree': hp.uniform('colsample_bytree', 0.7, 1.0),\n",
    "    'scale_pos_weight': hp.quniform('scale_pose_weight', 10, 200, 1),\n",
    "    'n_estimators':  hp.quniform('n_estimators', 200, 400, 20),\n",
    "    'learning_rate':  hp.uniform('learning_rate', 0.04, 0.15)\n",
    "}\n",
    "\n",
    "best = fmin(fn=objective,\n",
    "            space=space,\n",
    "            algo=tpe.suggest,\n",
    "            max_evals=200)"
   ]
  },
  {
   "cell_type": "code",
   "execution_count": 483,
   "metadata": {},
   "outputs": [
    {
     "data": {
      "text/plain": [
       "{'colsample_bytree': 0.7777706260111521,\n",
       " 'learning_rate': 0.132171897864724,\n",
       " 'max_depth': 7.0,\n",
       " 'n_estimators': 320.0,\n",
       " 'scale_pose_weight': 76.0}"
      ]
     },
     "execution_count": 483,
     "metadata": {},
     "output_type": "execute_result"
    }
   ],
   "source": [
    "best"
   ]
  },
  {
   "cell_type": "code",
   "execution_count": null,
   "metadata": {
    "collapsed": true
   },
   "outputs": [],
   "source": []
  }
 ],
 "metadata": {
  "kernelspec": {
   "display_name": "Python 3",
   "language": "python",
   "name": "python3"
  },
  "language_info": {
   "codemirror_mode": {
    "name": "ipython",
    "version": 3
   },
   "file_extension": ".py",
   "mimetype": "text/x-python",
   "name": "python",
   "nbconvert_exporter": "python",
   "pygments_lexer": "ipython3",
   "version": "3.6.1"
  }
 },
 "nbformat": 4,
 "nbformat_minor": 2
}
