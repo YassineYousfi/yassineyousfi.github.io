{
 "cells": [
  {
   "cell_type": "code",
   "execution_count": 2,
   "metadata": {
    "collapsed": true,
    "slideshow": {
     "slide_type": "skip"
    }
   },
   "outputs": [],
   "source": [
    "import numpy as np \n",
    "import matplotlib.pyplot as plt\n",
    "from sklearn.metrics import accuracy_score\n",
    "from sklearn.feature_selection import SelectFromModel\n",
    "from sklearn.preprocessing import Imputer \n",
    "from xgboost import XGBClassifier\n",
    "from hyperopt import STATUS_OK, Trials, fmin, hp, tpe"
   ]
  },
  {
   "cell_type": "code",
   "execution_count": null,
   "metadata": {
    "collapsed": true,
    "slideshow": {
     "slide_type": "skip"
    }
   },
   "outputs": [],
   "source": [
    "X_train = np.loadtxt(\"X_train.csv\")\n",
    "y_train = np.loadtxt(\"y_train.csv\")\n",
    "X_test = np.loadtxt(\"X_test.csv\")"
   ]
  },
  {
   "cell_type": "markdown",
   "metadata": {
    "slideshow": {
     "slide_type": "slide"
    }
   },
   "source": [
    "# Bankruptcy Prediction Challenge 💸\n",
    "\n",
    "## Authors: Yassine Yousfi, Mostafa Bouziane \n",
    "### (a.k.a. Back-propagated boys)"
   ]
  },
  {
   "cell_type": "markdown",
   "metadata": {
    "slideshow": {
     "slide_type": "slide"
    }
   },
   "source": [
    "# 👍 "
   ]
  },
  {
   "cell_type": "markdown",
   "metadata": {
    "slideshow": {
     "slide_type": "subslide"
    }
   },
   "source": [
    "## Model evaluation"
   ]
  },
  {
   "cell_type": "code",
   "execution_count": 28,
   "metadata": {
    "collapsed": true,
    "slideshow": {
     "slide_type": "fragment"
    }
   },
   "outputs": [],
   "source": [
    "def shuffle_split_pimped(clf, X_train, y_train, n):\n",
    "    ...\n",
    "    return r"
   ]
  },
  {
   "cell_type": "markdown",
   "metadata": {
    "slideshow": {
     "slide_type": "fragment"
    }
   },
   "source": [
    "- Insures **~20% of positive samples** in test fold \n",
    "- Insures **~3% of positive samples** in train fold \n",
    "- Gives **accurate estimates of the leaderboard score** (real life score)\n",
    "- ~1000 positive samples in the original data set → **limited number of splits** (~7/8) "
   ]
  },
  {
   "cell_type": "markdown",
   "metadata": {
    "slideshow": {
     "slide_type": "subslide"
    }
   },
   "source": [
    "## Feature engineering"
   ]
  },
  {
   "cell_type": "code",
   "execution_count": 8,
   "metadata": {
    "collapsed": true,
    "slideshow": {
     "slide_type": "skip"
    }
   },
   "outputs": [],
   "source": [
    "feature_nan = np.sum(np.isnan(X_train),axis=1)"
   ]
  },
  {
   "cell_type": "code",
   "execution_count": 27,
   "metadata": {
    "slideshow": {
     "slide_type": "fragment"
    }
   },
   "outputs": [
    {
     "data": {
      "image/png": "[encoded data removed]",
      "text/plain": [
       "<matplotlib.figure.Figure at 0x1a125335c0>"
      ]
     },
     "metadata": {},
     "output_type": "display_data"
    }
   ],
   "source": [
    "f, (ax1, ax2) = plt.subplots(ncols=2,figsize=(10,5))\n",
    "ax1.hist(feature_nan[y_train==1], bins = 30, normed=True, facecolor='red', alpha=0.55)\n",
    "ax1.set_title(\"Banrkupt NAN\")\n",
    "ax2.hist(feature_nan[y_train==0], bins = 30, normed=True, facecolor='blue', alpha=0.55)\n",
    "ax2.set_title(\"Healthy NAN\")\n",
    "plt.show()"
   ]
  },
  {
   "cell_type": "markdown",
   "metadata": {
    "slideshow": {
     "slide_type": "subslide"
    }
   },
   "source": [
    "## Paramaters optimisation"
   ]
  },
  {
   "cell_type": "code",
   "execution_count": 7,
   "metadata": {
    "slideshow": {
     "slide_type": "fragment"
    }
   },
   "outputs": [
    {
     "name": "stdout",
     "output_type": "stream",
     "text": [
      "Score 0.9196 params {'max_depth': 4, 'gamma': '0.0824', 'colsample_bytree': '0.8314', 'scale_pos_weight': 94, 'n_estimators': 380, 'learning_rate': '0.0641', 'eta': '0.0315', 'subsample': '0.7748', 'num_boost_round': 60}\n"
     ]
    }
   ],
   "source": [
    "def objective(params):\n",
    "    params = {\n",
    "        'max_depth': int(params['max_depth']),\n",
    "        'gamma': \"{:.4f}\".format(params['gamma']),\n",
    "        'colsample_bytree': '{:.4f}'.format(params['colsample_bytree']),\n",
    "        'scale_pos_weight': int(params['scale_pos_weight']),\n",
    "        'n_estimators': int(params['n_estimators']),\n",
    "        'learning_rate': '{:.4f}'.format(params['learning_rate']),\n",
    "        'subsample': '{:.4f}'.format(params['subsample']),\n",
    "    }    \n",
    "    clf = XGBClassifier(n_jobs=4, eval_metric=\"auc\", **params)\n",
    "    score = shuffle_split_pimped(clf, X_train, y_train, 8).mean()\n",
    "    print(\"Score {:.4f} params {}\".format(score, params))\n",
    "    return -score\n",
    "\n",
    "space = {\n",
    "    'max_depth': hp.quniform('max_depth', 3, 12, 1),\n",
    "    'colsample_bytree': hp.uniform('colsample_bytree', 0.7, 1.0),\n",
    "    'gamma': hp.uniform('gamma', 0.0, 0.6),\n",
    "    'scale_pos_weight': hp.quniform('scale_pose_weight', 10, 100, 1),\n",
    "    'n_estimators':  hp.quniform('n_estimators', 200, 400, 20),\n",
    "    'learning_rate':  hp.uniform('learning_rate', 0.04, 0.15),\n",
    "    'subsample': hp.uniform('subsample', 0.7, 1.0),\n",
    "}\n",
    "\n",
    "best = fmin(fn=objective,\n",
    "            space=space,\n",
    "            algo=tpe.suggest,\n",
    "            max_evals=10)"
   ]
  },
  {
   "cell_type": "markdown",
   "metadata": {
    "slideshow": {
     "slide_type": "subslide"
    }
   },
   "source": [
    "#### Best params:\n",
    "\n",
    "- **max_depth**: 5\n",
    "- **gamma**: 0.5819\n",
    "- **colsample_bytree**: 0.8125\n",
    "- **scale_pos_weight**: 86 \n",
    "- **n_estimators**: 240\n",
    "- **learning_rate**: 0.1027\n",
    "- **subsample**: 0.8511"
   ]
  },
  {
   "cell_type": "markdown",
   "metadata": {
    "slideshow": {
     "slide_type": "subslide"
    }
   },
   "source": [
    "## Small improvement"
   ]
  },
  {
   "cell_type": "markdown",
   "metadata": {
    "slideshow": {
     "slide_type": "fragment"
    }
   },
   "source": [
    "Repeat N_rounds time: \n",
    "    \n",
    "   - Fit XGBOOST on X_train\n",
    "   - Predict\n",
    "   - Create N_feat random new features based on {+, -, x, ÷} operations and stack them to X_train\n",
    "   - Fit XGBOOST on new X_train \n",
    "   - Compute Feature importances (normed)\n",
    "   - Keep only features with importances > Thresh\n",
    "   - Update X_train"
   ]
  },
  {
   "cell_type": "markdown",
   "metadata": {
    "slideshow": {
     "slide_type": "subslide"
    }
   },
   "source": [
    "### Why does it work?\n",
    "\n",
    "Our dataset is composed of ratios, sometimes {+, -, x, ÷} of ratios make sens.\n",
    "\n",
    "### Draw-back?\n",
    "\n",
    "Easy overfitting."
   ]
  },
  {
   "cell_type": "markdown",
   "metadata": {
    "slideshow": {
     "slide_type": "slide"
    }
   },
   "source": [
    "# 👎"
   ]
  },
  {
   "cell_type": "markdown",
   "metadata": {
    "slideshow": {
     "slide_type": "subslide"
    }
   },
   "source": [
    "## SMOTE + ENN"
   ]
  },
  {
   "cell_type": "markdown",
   "metadata": {
    "slideshow": {
     "slide_type": "fragment"
    }
   },
   "source": [
    "**SMOTE** (Synthetic Minority Over-Sampling Technique)\n",
    "\n",
    "For each point p in the minority class S:\n",
    "\n",
    "   - Compute its k nearest neighbors in S\n",
    "   \n",
    "   - Randomly choose r ≤ k of the neighbors (with re-placement)\n",
    "   \n",
    "   - Choose a random point along the lines joining p and each of the r selected neighbors\n",
    "   \n",
    "   - Add these synthetic points to the dataset with class S\n",
    "        \n",
    "**ENN** (Edited Nearest Neighbor)\n",
    "\n",
    "   - Remove any example whose class label differs from the class of at least two of its three nearest neighbors"
   ]
  },
  {
   "cell_type": "markdown",
   "metadata": {
    "slideshow": {
     "slide_type": "subslide"
    }
   },
   "source": [
    "## Draw-backs"
   ]
  },
  {
   "cell_type": "markdown",
   "metadata": {
    "slideshow": {
     "slide_type": "fragment"
    }
   },
   "source": [
    "- Curse of dimensionality (d = 65) neighbors become quite far\n",
    "- Removing/adding points near the decision boundary"
   ]
  },
  {
   "cell_type": "markdown",
   "metadata": {
    "slideshow": {
     "slide_type": "slide"
    }
   },
   "source": [
    "# 🕵️"
   ]
  },
  {
   "cell_type": "markdown",
   "metadata": {
    "slideshow": {
     "slide_type": "subslide"
    }
   },
   "source": [
    "## Potential improvements\n",
    "\n",
    "- Investigate folds where XGBOOST didn't score good and maybe try to fit another classifier\n",
    "- Further investigate the method with the new random features (tune N_rounds, N_new, thresh, etc.)\n",
    "- Feature selection > SMOTE"
   ]
  }
 ],
 "metadata": {
  "celltoolbar": "Slideshow",
  "kernelspec": {
   "display_name": "Python 3",
   "language": "python",
   "name": "python3"
  },
  "language_info": {
   "codemirror_mode": {
    "name": "ipython",
    "version": 3
   },
   "file_extension": ".py",
   "mimetype": "text/x-python",
   "name": "python",
   "nbconvert_exporter": "python",
   "pygments_lexer": "ipython3",
   "version": "3.6.1"
  }
 },
 "nbformat": 4,
 "nbformat_minor": 2
}
